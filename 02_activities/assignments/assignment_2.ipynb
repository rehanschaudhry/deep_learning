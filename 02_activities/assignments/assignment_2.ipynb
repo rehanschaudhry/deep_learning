{
 "cells": [
  {
   "cell_type": "markdown",
   "id": "7c6788aef474ca12",
   "metadata": {
    "collapsed": false,
    "id": "7c6788aef474ca12"
   },
   "source": [
    "# Text Generation with Recurrent Neural Networks (RNNs)\n",
    "\n",
    "In this assignment, you'll build upon your understanding of RNNs and Keras to develop a word-level text generation model.  Your goal is to train a model that learns the stylistic nuances of a chosen corpus and generates new, original text segments that echo the source material's essence.\n",
    "\n",
    "**Datasets**\n",
    "\n",
    "We've provided several intriguing text corpora to get you started:\n",
    "\n",
    "*   Mark Twain\n",
    "*   Charles Dickens\n",
    "*   William Shakespeare\n",
    "\n",
    "**Feel free to explore!**  If you have a particular passion for another author, genre, or a specific text, you're encouraged to use your own dataset of raw text."
   ]
  },
  {
   "cell_type": "code",
   "execution_count": 9,
   "id": "2d0bfedcfe52aedc",
   "metadata": {
    "colab": {
     "base_uri": "https://localhost:8080/"
    },
    "id": "2d0bfedcfe52aedc",
    "outputId": "eef898b3-cf85-43d1-9715-30194b9932d3"
   },
   "outputs": [
    {
     "name": "stdout",
     "output_type": "stream",
     "text": [
      "No GPU available. If you're on Colab, go to Runtime > Change runtime and select a GPU hardware accelerator.\n"
     ]
    }
   ],
   "source": [
    "# Check if we have a GPU available\n",
    "import tensorflow as tf\n",
    "if tf.test.gpu_device_name():\n",
    "    print('Default GPU Device: {}'.format(tf.test.gpu_device_name()))\n",
    "else:\n",
    "    print(\"No GPU available. If you're on Colab, go to Runtime > Change runtime and select a GPU hardware accelerator.\")"
   ]
  },
  {
   "cell_type": "code",
   "execution_count": 10,
   "id": "9c28c497f620b775",
   "metadata": {
    "ExecuteTime": {
     "end_time": "2024-02-08T21:30:44.959803Z",
     "start_time": "2024-02-08T21:30:44.701343Z"
    },
    "id": "9c28c497f620b775"
   },
   "outputs": [
    {
     "name": "stdout",
     "output_type": "stream",
     "text": [
      "The Project Gutenberg EBook of Hamlet, by William Shakespeare\n",
      "\n",
      "This eBook is for the use of anyone anywhere at no cost and with\n",
      "almost no restrictions whatsoever.  You may copy it, give it away or\n",
      "re-use it under the terms of the Project Gutenberg License included\n",
      "with this eBook or online at www.gutenberg.org\n",
      "\n",
      "\n",
      "Title: Hamlet\n",
      "\n",
      "Author: William Shakespeare\n",
      "\n",
      "Editor: Charles Kean\n",
      "\n",
      "Release Date: January 10, 2009 [EBook #27761]\n",
      "\n",
      "Language: English\n",
      "\n",
      "Character set encoding: UTF-8\n",
      "\n",
      "*** START OF THIS PROJECT GUTENBERG EBOOK HAMLET ***\n",
      "\n",
      "\n",
      "\n",
      "\n",
      "Produced by David Starner, Curtis Weyant and the Online\n",
      "Distributed Proofreading Team at https://www.pgdp.net\n",
      "\n",
      "\n",
      "\n",
      "\n",
      "\n",
      "\n",
      "\n",
      "\n",
      "\n",
      "    Transcriber's Note:\n",
      "    This is a heavily edited version of _Hamlet_. It was used\n",
      "    for Charles Kean's 1859 stage production. Phrases printed\n",
      "    in italics in the book are indicated in this electronic\n",
      "    version by _ (underscore). Footnotes originally appeared\n",
      "    at the bottom of each page. For this electronic version\n",
      "    the footnotes \n"
     ]
    }
   ],
   "source": [
    "import os\n",
    "\n",
    "def load_dataset(file_path, fraction=1.0):\n",
    "    with open(file_path, 'r', encoding='utf-8') as f:\n",
    "        raw_text = f.read()\n",
    "    return raw_text[:int(fraction * len(raw_text))]\n",
    "\n",
    "# Specify the local path to the dataset\n",
    "dataset_path = r'C:\\Users\\chadhrr\\OneDrive - OTPP\\Desktop\\DSI\\deep_learning\\02_activities\\assignments\\downloaded_books\\shakespeare.txt'\n",
    "\n",
    "# Load chosen dataset. NOTE: If running out of memory, change the `fraction` parameter to a value between 0 and 1 to load less data.\n",
    "text = load_dataset(dataset_path, fraction=0.1)\n",
    "\n",
    "print(text[:1000])  # Print the first 1000 characters of the loaded text\n",
    "\n"
   ]
  },
  {
   "cell_type": "markdown",
   "id": "dab51c764031e606",
   "metadata": {
    "collapsed": false,
    "id": "dab51c764031e606"
   },
   "source": [
    "# 1. Data Preparation (Complete or Incomplete)\n",
    "\n",
    "Before we can begin training an RNN model, we need to prepare the dataset. This involves cleaning the text, tokenizing words, and creating sequences the model can be trained on.\n",
    "\n",
    "## 1.1 Data Exploration\n",
    "\n",
    "Print the first 1000 characters of the dataset. Report the dataset's size and the number of unique characters it contains."
   ]
  },
  {
   "cell_type": "code",
   "execution_count": 11,
   "id": "BunkZmdkl0Wn",
   "metadata": {
    "colab": {
     "base_uri": "https://localhost:8080/"
    },
    "id": "BunkZmdkl0Wn",
    "outputId": "e429a49a-9334-4484-bd6b-2ce40c8298c1"
   },
   "outputs": [
    {
     "name": "stdout",
     "output_type": "stream",
     "text": [
      "First 1000 characters of the dataset:\n",
      "The Project Gutenberg EBook of Hamlet, by William Shakespeare\n",
      "\n",
      "This eBook is for the use of anyone anywhere at no cost and with\n",
      "almost no restrictions whatsoever.  You may copy it, give it away or\n",
      "re-use it under the terms of the Project Gutenberg License included\n",
      "with this eBook or online at www.gutenberg.org\n",
      "\n",
      "\n",
      "Title: Hamlet\n",
      "\n",
      "Author: William Shakespeare\n",
      "\n",
      "Editor: Charles Kean\n",
      "\n",
      "Release Date: January 10, 2009 [EBook #27761]\n",
      "\n",
      "Language: English\n",
      "\n",
      "Character set encoding: UTF-8\n",
      "\n",
      "*** START OF THIS PROJECT GUTENBERG EBOOK HAMLET ***\n",
      "\n",
      "\n",
      "\n",
      "\n",
      "Produced by David Starner, Curtis Weyant and the Online\n",
      "Distributed Proofreading Team at https://www.pgdp.net\n",
      "\n",
      "\n",
      "\n",
      "\n",
      "\n",
      "\n",
      "\n",
      "\n",
      "\n",
      "    Transcriber's Note:\n",
      "    This is a heavily edited version of _Hamlet_. It was used\n",
      "    for Charles Kean's 1859 stage production. Phrases printed\n",
      "    in italics in the book are indicated in this electronic\n",
      "    version by _ (underscore). Footnotes originally appeared\n",
      "    at the bottom of each page. For this electronic version\n",
      "    the footnotes \n",
      "\n",
      "Dataset size: 9358862 characters\n",
      "Number of unique characters: 192\n",
      "\n",
      "Unique characters in the dataset:\n",
      "{'{', 'p', 'ĕ', 'è', 'ç', '!', '9', '4', 'ō', 'F', 'ô', '₆', 'e', 'ρ', 'U', 'τ', 'ä', '+', ',', 'γ', 'Z', 'r', '–', '₈', 'π', 'C', 'É', 'I', '^', 'S', 'λ', 'χ', 'ἁ', 'ͧ', 'b', '‘', ';', 'ᵈ', 'A', '†', 'X', 'é', '%', 'ὁ', 'ᵗ', '₇', 'q', 'á', 'V', '7', '¶', 'ὶ', 'υ', '}', 'ā', 'o', 'n', '~', 'a', 'l', 'έ', 'ο', 'J', 'œ', 'ἅ', 'R', 'ν', 'W', 'æ', '\\x97', '3', '·', 'ε', '_', 'θ', 'k', 'ë', 'Ç', '=', 'ί', 'ͭ', 'Ö', '‛', 'ĭ', 'ú', '„', 'â', 'κ', 'ó', 'ᵒ', 'w', 'm', '/', 'G', '(', 'ὺ', 'M', 'c', 'Β', 'Q', 'g', '-', 'h', 'Y', '£', 'ͨ', '₂', 'f', 'ι', '>', '‡', 'ê', '”', 'y', 'μ', '○', '\"', '@', 'ū', '₃', '5', 'i', 'P', 'H', 's', 'O', 'ö', 'ξ', 'x', '“', '8', 'z', '6', '’', 'u', 'î', '0', 'ē', '&', ' ', 'α', 'ἐ', 't', '●', 'È', 'N', 'v', '\\xa0', 'δ', 'σ', 'ϛ', 'ˢ', '₁', '1', '*', 'B', 'D', 'η', ')', '#', '$', '₅', '|', '│', 'T', '2', 'E', 'ý', '─', '—', 'K', 'ẏ', 'L', '§', '.', 'ī', 'ü', 'ἀ', \"'\", 'à', 'j', 'Æ', 'ᵉ', 'ù', '\\n', 'd', '[', ':', 'ό', '?', '₄', ']'}\n"
     ]
    }
   ],
   "source": [
    "# Your code here\n",
    "\n",
    "# Load the dataset\n",
    "dataset_path = r'C:\\Users\\chadhrr\\OneDrive - OTPP\\Desktop\\DSI\\deep_learning\\02_activities\\assignments\\downloaded_books\\shakespeare.txt'\n",
    "text = load_dataset(dataset_path, fraction=1.0)\n",
    "\n",
    "# Print the first 1000 characters\n",
    "print(\"First 1000 characters of the dataset:\")\n",
    "print(text[:1000])\n",
    "\n",
    "# Report the dataset's size\n",
    "dataset_size = len(text)\n",
    "print(f\"\\nDataset size: {dataset_size} characters\")\n",
    "\n",
    "# Count the number of unique characters\n",
    "unique_characters = set(text)\n",
    "num_unique_characters = len(unique_characters)\n",
    "print(f\"Number of unique characters: {num_unique_characters}\")\n",
    "\n",
    "# Display the unique characters\n",
    "print(\"\\nUnique characters in the dataset:\")\n",
    "print(unique_characters)\n"
   ]
  },
  {
   "cell_type": "markdown",
   "id": "3ae1639f5ecfe587",
   "metadata": {
    "collapsed": false,
    "id": "3ae1639f5ecfe587"
   },
   "source": [
    "## 1.2 Text Pre-Processing\n",
    "\n",
    "To prepare the dataset for training, we need to clean the text and create a numerical representation the model can interpret. Perform the following pre-processing steps:\n",
    "\n",
    "*   Convert the entire text to lowercase.\n",
    "*   Use the `Tokenizer` class from the `keras.preprocessing.text` module to tokenize the text. You should fit the tokenizer on the text and then convert the text to a sequence of numbers. You can use the `texts_to_sequences` method to do this.\n",
    "\n",
    "**Note**:\n",
    "* You'll need to specify an appropriate size for the vocabulary. The number of words in the list of most common words can serve as a guide - does it seem like a reasonable vocabulary size?\n",
    "* Some of the words will be excluded from the vocabulary, as they don't appear often enough. It's important to provide a value for `oov_token` when creating the Tokenizer instance, so that these words can be represented as \"unknown\"."
   ]
  },
  {
   "cell_type": "code",
   "execution_count": 12,
   "id": "4d0d30cd98ea453c",
   "metadata": {
    "id": "4d0d30cd98ea453c"
   },
   "outputs": [],
   "source": [
    "from keras.preprocessing.text import Tokenizer\n",
    "\n",
    "# Your code here\n",
    "VOCAB_SIZE = None\n",
    "OOV_TOKEN = None\n",
    "\n",
    "tokenizer = None"
   ]
  },
  {
   "cell_type": "markdown",
   "id": "89d32bb9356f711",
   "metadata": {
    "collapsed": false,
    "id": "89d32bb9356f711"
   },
   "source": [
    "If everything worked, the following line should show you the first 10 words in the vocabulary:"
   ]
  },
  {
   "cell_type": "code",
   "execution_count": 13,
   "id": "6a7cd547a19feece",
   "metadata": {
    "colab": {
     "base_uri": "https://localhost:8080/"
    },
    "id": "6a7cd547a19feece",
    "outputId": "1f52c24c-fe9d-4074-a6b9-2be1b36a172e"
   },
   "outputs": [
    {
     "name": "stdout",
     "output_type": "stream",
     "text": [
      "Tokenizer has not been initialized. Possible issue: Complete the relevant section of the assignment to initialize it.\n"
     ]
    }
   ],
   "source": [
    "try:\n",
    "    print(list(tokenizer.word_index.items())[:10])\n",
    "except AttributeError:\n",
    "    print(\"Tokenizer has not been initialized. Possible issue: Complete the relevant section of the assignment to initialize it.\"\n",
    ")\n"
   ]
  },
  {
   "cell_type": "code",
   "execution_count": 14,
   "id": "29cd5acb",
   "metadata": {},
   "outputs": [
    {
     "name": "stdout",
     "output_type": "stream",
     "text": [
      "[('<OOV>', 1), ('the', 2), ('and', 3), ('of', 4), ('to', 5), ('in', 6), ('i', 7), ('a', 8), ('you', 9), ('that', 10)]\n"
     ]
    }
   ],
   "source": [
    "import os\n",
    "from keras.preprocessing.text import Tokenizer\n",
    "\n",
    "# Load the dataset\n",
    "dataset_path = r'C:\\Users\\chadhrr\\OneDrive - OTPP\\Desktop\\DSI\\deep_learning\\02_activities\\assignments\\downloaded_books\\shakespeare.txt'\n",
    "with open(dataset_path, 'r', encoding='utf-8') as file:\n",
    "    text = file.read()\n",
    "\n",
    "# Convert the text to lowercase\n",
    "text = text.lower()\n",
    "\n",
    "# Define the vocabulary size and OOV token\n",
    "VOCAB_SIZE = 10000  # You can adjust this based on your dataset\n",
    "OOV_TOKEN = \"<OOV>\"\n",
    "\n",
    "# Initialize the tokenizer\n",
    "tokenizer = Tokenizer(num_words=VOCAB_SIZE, oov_token=OOV_TOKEN)\n",
    "\n",
    "# Fit the tokenizer on the text\n",
    "tokenizer.fit_on_texts([text])\n",
    "\n",
    "# Convert the text to a sequence of numbers\n",
    "sequences = tokenizer.texts_to_sequences([text])\n",
    "\n",
    "# Print the first 10 words in the vocabulary\n",
    "try:\n",
    "    print(list(tokenizer.word_index.items())[:10])\n",
    "except AttributeError:\n",
    "    print(\"Tokenizer has not been initialized. Possible issue: Complete the relevant section of the assignment to initialize it.\")\n"
   ]
  },
  {
   "cell_type": "markdown",
   "id": "da504e4bc6617613",
   "metadata": {
    "collapsed": false,
    "id": "da504e4bc6617613"
   },
   "source": [
    "## 1.3 Sequence Generation\n",
    "\n",
    "Now that the text has been tokenized, we need to create sequences the model can be trained on. There are two parts to this:\n",
    "\n",
    "*   Use the `texts_to_sequences` method from the tokenizer to convert the text to a list of sequences of numbers.\n",
    "*   Generate the training sequences. Each training sequence should contain `SEQ_LENGTH` token IDs from the text. The target token for each sequence should be the word that follows the sequence in the text."
   ]
  },
  {
   "cell_type": "code",
   "execution_count": 15,
   "id": "4ff5fc8d0273709c",
   "metadata": {
    "id": "4ff5fc8d0273709c"
   },
   "outputs": [
    {
     "name": "stdout",
     "output_type": "stream",
     "text": [
      "X shape: (1526748, 50)\n",
      "y shape: (1526748,)\n"
     ]
    }
   ],
   "source": [
    "import numpy as np\n",
    "\n",
    "# Set the sequence length\n",
    "SEQ_LENGTH = 50  # You can adjust this based on your dataset and requirements\n",
    "\n",
    "# Convert the text to a list of sequences of numbers\n",
    "sequences = tokenizer.texts_to_sequences([text])[0]\n",
    "\n",
    "# Generate the training sequences\n",
    "X = []\n",
    "y = []\n",
    "\n",
    "for i in range(0, len(sequences) - SEQ_LENGTH):\n",
    "    X.append(sequences[i:i + SEQ_LENGTH])\n",
    "    y.append(sequences[i + SEQ_LENGTH])\n",
    "\n",
    "# Convert X and y to numpy arrays\n",
    "X = np.array(X)\n",
    "y = np.array(y)\n",
    "\n",
    "# Print the shape of X and y to verify\n",
    "print(f'X shape: {X.shape}')\n",
    "print(f'y shape: {y.shape}')\n"
   ]
  },
  {
   "cell_type": "markdown",
   "id": "3b6bdc0deb930df1",
   "metadata": {
    "collapsed": false,
    "id": "3b6bdc0deb930df1"
   },
   "source": [
    "Assuming your sequences are stored in `X` and the corresponding targets in `y`, the following line should print the first training sequence and its target:"
   ]
  },
  {
   "cell_type": "code",
   "execution_count": 16,
   "id": "a495cab04001ce92",
   "metadata": {
    "colab": {
     "base_uri": "https://localhost:8080/"
    },
    "id": "a495cab04001ce92",
    "outputId": "ecc2c1f4-81d5-4edb-ba86-8c53f86df70b"
   },
   "outputs": [
    {
     "name": "stdout",
     "output_type": "stream",
     "text": [
      "Sequence: [   2  138  130  784    4  267   28  666  358   21  784   13   17    2\n",
      "  296    4 1369 3383   43   41  818    3   14  583   41 3598 2443    9\n",
      "   99  411   16  142   16  171   36  341  296   16  351    2  376    4\n",
      "    2  138  130  558 2230   14   21  784]\n",
      "Target: 36\n",
      "Translated back to words: ['the', 'project', 'gutenberg', 'ebook', 'of', 'hamlet', 'by', 'william', 'shakespeare', 'this', 'ebook', 'is', 'for', 'the', 'use', 'of', 'anyone', 'anywhere', 'at', 'no', 'cost', 'and', 'with', 'almost', 'no', 'restrictions', 'whatsoever', 'you', 'may', 'copy', 'it', 'give', 'it', 'away', 'or', 're', 'use', 'it', 'under', 'the', 'terms', 'of', 'the', 'project', 'gutenberg', 'license', 'included', 'with', 'this', 'ebook'] -> or\n"
     ]
    }
   ],
   "source": [
    "if len(X) > 0 and len(y) > 0:\n",
    "    print(f'Sequence: {X[0]}\\nTarget: {y[0]}')\n",
    "    print(f'Translated back to words: {[tokenizer.index_word[i] for i in X[0]]} -> {tokenizer.index_word[y[0]]}')\n",
    "else:\n",
    "    print(\"Training sequences have not been generated. Possible issue: Complete the relevant section of the assignment to initialize it.\")\n"
   ]
  },
  {
   "cell_type": "markdown",
   "id": "d5bb2c55da17aaa0",
   "metadata": {
    "collapsed": false,
    "id": "d5bb2c55da17aaa0"
   },
   "source": [
    "And the following code will transform y into a one-hot encoded matrix, and split everything into training and validation sets:"
   ]
  },
  {
   "cell_type": "code",
   "execution_count": 17,
   "id": "3a929b2e6c2cc921",
   "metadata": {
    "colab": {
     "base_uri": "https://localhost:8080/"
    },
    "id": "3a929b2e6c2cc921",
    "outputId": "bbac2f5d-5ec3-40d0-fdd7-c567088569d7"
   },
   "outputs": [
    {
     "name": "stdout",
     "output_type": "stream",
     "text": [
      "X_train shape: (1120109, 50)\n",
      "y_train shape: (1120109,)\n",
      "Sequence: [  84  153  154    1   77   68  214   71    1   63 4169    5  923  828\n",
      "   85   12   17    5 4068   24 1214    7 3309   24    7  220   61   77\n",
      "    7 7395   68    7  916   71   63 4937    1   76   84 4140   78   85\n",
      "   12  216    6   24 5030 3801  214  778]\n",
      "Target: 76\n",
      "Translated back to words: ['q₃', 'q₄', 'q₅', '<OOV>', 'f₁', 'f₂', 'q₆', 'f₃', '<OOV>', 'f₄', '214', 'to', 'drink', 'deep', 'q₁', 'ff', 'for', 'to', 'drinke', 'qq', '215', 'i', 'prethee', 'qq', 'i', 'pray', 'thee', 'f₁', 'i', 'prythee', 'f₂', 'i', 'prithee', 'f₃', 'f₄', 'student', '<OOV>', 'q₂', 'q₃', '216', 'see', 'q₁', 'ff', 'omitted', 'in', 'qq', '217', \"follow'd\", 'q₆', 'followed'] -> q₂\n"
     ]
    }
   ],
   "source": [
    "from sklearn.model_selection import train_test_split\n",
    "from keras.utils import to_categorical\n",
    "import numpy as np\n",
    "\n",
    "# Set a manageable vocabulary size\n",
    "VOCAB_SIZE = 10000  # You can adjust this based on your dataset and requirements\n",
    "OOV_TOKEN = '<OOV>'\n",
    "\n",
    "# Initialize the tokenizer with the new vocabulary size and OOV token\n",
    "tokenizer = Tokenizer(num_words=VOCAB_SIZE, oov_token=OOV_TOKEN)\n",
    "tokenizer.fit_on_texts([text])\n",
    "\n",
    "# Convert the text to sequences\n",
    "sequences = tokenizer.texts_to_sequences([text])[0]\n",
    "\n",
    "# Generate training sequences\n",
    "SEQ_LENGTH = 50  # Adjust based on your requirements\n",
    "X = []\n",
    "y = []\n",
    "\n",
    "for i in range(0, len(sequences) - SEQ_LENGTH):\n",
    "    X.append(sequences[i:i + SEQ_LENGTH])\n",
    "    y.append(sequences[i + SEQ_LENGTH])\n",
    "\n",
    "X = np.array(X)\n",
    "y = np.array(y)\n",
    "\n",
    "# Drop examples where the target is the OOV token\n",
    "OOV_INDEX = tokenizer.word_index[OOV_TOKEN]\n",
    "mask = y != OOV_INDEX\n",
    "X = X[mask]\n",
    "y = y[mask]\n",
    "\n",
    "# Split the data into training and validation sets\n",
    "X_train, X_val, y_train, y_val = train_test_split(X, y, test_size=0.2, random_state=42)\n",
    "\n",
    "print(f'X_train shape: {X_train.shape}')\n",
    "print(f'y_train shape: {y_train.shape}')\n",
    "\n",
    "# Print the first sequence and its target\n",
    "if len(X_train) > 0 and len(y_train) > 0:\n",
    "    print(f'Sequence: {X_train[0]}')\n",
    "    print(f'Target: {y_train[0]}')\n",
    "    print(f'Translated back to words: {[tokenizer.index_word[i] for i in X_train[0]]} -> {tokenizer.index_word[y_train[0]]}')\n",
    "else:\n",
    "    print(\"Training sequences have not been generated. Possible issue: Complete the relevant section of the assignment to initialize it.\")\n"
   ]
  },
  {
   "cell_type": "markdown",
   "id": "b6e4161897210434",
   "metadata": {
    "collapsed": false,
    "id": "b6e4161897210434"
   },
   "source": [
    "# 2. Model Development (Complete or Incomplete)\n",
    "\n",
    "With the dataset prepared, it's time to develop the RNN model. You'll need to define the architecture of the model, compile it, and prepare it for training.\n",
    "\n",
    "## 2.1 Model Architecture\n",
    "\n",
    "Define the architecture of your RNN model. You can design it however you like, but there are a few features that it's important to include:\n",
    "\n",
    "*   An embedding layer that learns a dense representation of the input tokens. You'll need to specify the input dimension (the size of the vocabulary) and the output dimension (the size of the dense representation). Remember, you can look at the documentation [here](https://keras.io/api/layers/core_layers/embedding/).\n",
    "*   At least one recurrent layer. We have learned how to use LSTM layers in class, but you can use other types of recurrent layers if you prefer. You can find the documentation [here](https://keras.io/api/layers/recurrent_layers/lstm/).\n",
    "*   A dense layer with a softmax activation function. This layer will output a probability distribution over the vocabulary, so that the model can make predictions about the next token."
   ]
  },
  {
   "cell_type": "code",
   "execution_count": 18,
   "id": "28fc83fe",
   "metadata": {},
   "outputs": [
    {
     "name": "stdout",
     "output_type": "stream",
     "text": [
      "Model: \"sequential\"\n",
      "_________________________________________________________________\n",
      " Layer (type)                Output Shape              Param #   \n",
      "=================================================================\n",
      " embedding (Embedding)       (None, 50, 100)           1000000   \n",
      "                                                                 \n",
      " lstm (LSTM)                 (None, 128)               117248    \n",
      "                                                                 \n",
      " dense (Dense)               (None, 10000)             1290000   \n",
      "                                                                 \n",
      "=================================================================\n",
      "Total params: 2,407,248\n",
      "Trainable params: 2,407,248\n",
      "Non-trainable params: 0\n",
      "_________________________________________________________________\n"
     ]
    }
   ],
   "source": [
    "from keras.models import Sequential\n",
    "from keras.layers import Embedding, LSTM, Dense\n",
    "\n",
    "# Define the vocabulary size and embedding dimension\n",
    "VOCAB_SIZE = 10000  # This should match the value used during tokenization\n",
    "EMBEDDING_DIM = 100  # You can adjust this based on your requirements\n",
    "SEQ_LENGTH = 50  # This should match the sequence length used during data preparation\n",
    "\n",
    "# Define the model architecture\n",
    "model = Sequential([\n",
    "    Embedding(input_dim=VOCAB_SIZE, output_dim=EMBEDDING_DIM, input_length=SEQ_LENGTH),\n",
    "    LSTM(128, return_sequences=False),  # You can adjust the number of units\n",
    "    Dense(VOCAB_SIZE, activation='softmax')\n",
    "])\n",
    "\n",
    "# Print the model summary\n",
    "model.summary()\n"
   ]
  },
  {
   "cell_type": "markdown",
   "id": "2fafd2dbb0d589fc",
   "metadata": {
    "collapsed": false,
    "id": "2fafd2dbb0d589fc"
   },
   "source": [
    "## 2.2 Model Compilation\n",
    "\n",
    "Compile the model with an appropriate loss function and optimizer. You might also want to track additional metrics, such as accuracy.\n",
    "\n",
    "Give a short explanation of your choice of loss function and optimizer:\n",
    "\n",
    "To compile the RNN model, we'll use `categorical_crossentropy` as the loss function. This loss function is well-suited for multi-class classification problems where each sample belongs to one of several classes. In this task, predicting the next token in a sequence involves mapping each token to a unique class (word in the vocabulary). The `categorical_crossentropy` loss function measures how well the predicted probability distribution aligns with the true distribution, which is represented as a one-hot encoded target. It is commonly used in text generation and sequence prediction tasks due to its effectiveness in handling such scenarios.\n",
    "\n",
    "For the optimizer, we will use `Adam`, a popular choice for training neural networks. Adam combines the benefits of two other optimizers, AdaGrad and RMSProp, by employing adaptive learning rates and momentum-based updates. This allows it to efficiently manage sparse gradients and dynamically adjust the learning rate throughout training. Adam is known for its strong performance across a variety of problems, including text generation tasks, making it a suitable choice for this model."
   ]
  },
  {
   "cell_type": "code",
   "execution_count": 19,
   "id": "ae4ca7a12051b1fd",
   "metadata": {
    "id": "ae4ca7a12051b1fd"
   },
   "outputs": [
    {
     "name": "stdout",
     "output_type": "stream",
     "text": [
      "Model: \"sequential_1\"\n",
      "_________________________________________________________________\n",
      " Layer (type)                Output Shape              Param #   \n",
      "=================================================================\n",
      " embedding_1 (Embedding)     (None, 50, 100)           1000000   \n",
      "                                                                 \n",
      " lstm_1 (LSTM)               (None, 128)               117248    \n",
      "                                                                 \n",
      " dense_1 (Dense)             (None, 10000)             1290000   \n",
      "                                                                 \n",
      "=================================================================\n",
      "Total params: 2,407,248\n",
      "Trainable params: 2,407,248\n",
      "Non-trainable params: 0\n",
      "_________________________________________________________________\n"
     ]
    }
   ],
   "source": [
    "from keras.models import Sequential\n",
    "from keras.layers import Embedding, LSTM, Dense\n",
    "\n",
    "# Define the vocabulary size and embedding dimension\n",
    "VOCAB_SIZE = 10000  # This should match the value used during tokenization\n",
    "EMBEDDING_DIM = 100  # You can adjust this based on your requirements\n",
    "SEQ_LENGTH = 50  # This should match the sequence length used during data preparation\n",
    "\n",
    "# Define the model architecture\n",
    "model = Sequential([\n",
    "    Embedding(input_dim=VOCAB_SIZE, output_dim=EMBEDDING_DIM, input_length=SEQ_LENGTH),\n",
    "    LSTM(128, return_sequences=False),  # You can adjust the number of units\n",
    "    Dense(VOCAB_SIZE, activation='softmax')\n",
    "])\n",
    "\n",
    "# Print the model summary\n",
    "model.summary()\n",
    "# Your code here\n",
    "from keras.optimizers import Adam\n",
    "\n",
    "# Compile the model\n",
    "model.compile(\n",
    "    loss='categorical_crossentropy',  # Loss function for multi-class classification\n",
    "    optimizer=Adam(),  # Optimizer with adaptive learning rate\n",
    "    metrics=['accuracy']  # Track accuracy during training\n",
    ")\n",
    "\n",
    "\n",
    "\n"
   ]
  },
  {
   "cell_type": "markdown",
   "id": "c2f0b90a448c4f4b",
   "metadata": {
    "collapsed": false,
    "id": "c2f0b90a448c4f4b"
   },
   "source": [
    "## 2.3 Model Training\n",
    "\n",
    "Train the model on the training data you've prepared.\n",
    "\n",
    "* Train your model for 5 epochs with a batch size of 128. Use the validation data for validation.\n",
    "* Store the training history in a variable called `history`."
   ]
  },
  {
   "cell_type": "code",
   "execution_count": 20,
   "id": "256b1ea138c67ef7",
   "metadata": {
    "colab": {
     "base_uri": "https://localhost:8080/"
    },
    "id": "256b1ea138c67ef7",
    "outputId": "fba36993-0bf3-472e-f1c3-1da548c12ead"
   },
   "outputs": [
    {
     "name": "stdout",
     "output_type": "stream",
     "text": [
      "X_train shape: (1120109, 50)\n",
      "y_train shape: (1120109,)\n",
      "Epoch 1/5\n"
     ]
    },
    {
     "name": "stderr",
     "output_type": "stream",
     "text": [
      "c:\\Users\\chadhrr\\AppData\\Local\\miniconda3\\envs\\dsi_participant\\lib\\site-packages\\keras\\backend.py:5582: UserWarning: \"`sparse_categorical_crossentropy` received `from_logits=True`, but the `output` argument was produced by a Softmax activation and thus does not represent logits. Was this intended?\n",
      "  output, from_logits = _get_logits(\n"
     ]
    },
    {
     "name": "stdout",
     "output_type": "stream",
     "text": [
      "8751/8751 [==============================] - 4212s 481ms/step - loss: 6.1480 - accuracy: 0.1001 - val_loss: 5.6369 - val_accuracy: 0.1363\n",
      "Epoch 2/5\n",
      "8751/8751 [==============================] - 2767s 316ms/step - loss: 5.4114 - accuracy: 0.1525 - val_loss: 5.3456 - val_accuracy: 0.1633\n",
      "Epoch 3/5\n",
      "8751/8751 [==============================] - 2834s 324ms/step - loss: 5.1174 - accuracy: 0.1756 - val_loss: 5.2237 - val_accuracy: 0.1764\n",
      "Epoch 4/5\n",
      "8751/8751 [==============================] - 2675s 306ms/step - loss: 4.9256 - accuracy: 0.1898 - val_loss: 5.1643 - val_accuracy: 0.1850\n",
      "Epoch 5/5\n",
      "8751/8751 [==============================] - 3133s 358ms/step - loss: 4.7797 - accuracy: 0.2006 - val_loss: 5.1406 - val_accuracy: 0.1897\n",
      "{'loss': [6.148021221160889, 5.411351680755615, 5.117430686950684, 4.92564582824707, 4.779704570770264], 'accuracy': [0.10008668899536133, 0.15247979760169983, 0.17560969293117523, 0.18978242576122284, 0.2005581557750702], 'val_loss': [5.6368842124938965, 5.345641613006592, 5.223694801330566, 5.164300918579102, 5.140598773956299], 'val_accuracy': [0.1363113671541214, 0.16325867176055908, 0.17641806602478027, 0.18498149514198303, 0.18971316516399384]}\n"
     ]
    }
   ],
   "source": [
    "from keras.losses import SparseCategoricalCrossentropy\n",
    "from sklearn.model_selection import train_test_split\n",
    "\n",
    "# Ensure that tokenizer has been initialized\n",
    "if tokenizer is not None:\n",
    "    # Convert X and y to numpy arrays\n",
    "    X = np.array(X)\n",
    "    y = np.array(y)\n",
    "\n",
    "    # One last thing: let's drop any examples where the target is the OOV token - we don't want our model to predict that (boring!)\n",
    "    if OOV_TOKEN in tokenizer.word_index:\n",
    "        mask = y != tokenizer.word_index[OOV_TOKEN]\n",
    "        X = X[mask]\n",
    "        y = y[mask]\n",
    "\n",
    "    # Split the data into training and validation sets\n",
    "    X_train, X_val, y_train, y_val = train_test_split(X, y, test_size=0.2, random_state=42)\n",
    "\n",
    "    print(f'X_train shape: {X_train.shape}')\n",
    "    print(f'y_train shape: {y_train.shape}')\n",
    "\n",
    "    # Compile the model with sparse categorical crossentropy\n",
    "    model.compile(\n",
    "        optimizer='adam',\n",
    "        loss=SparseCategoricalCrossentropy(from_logits=True),\n",
    "        metrics=['accuracy']\n",
    "    )\n",
    "\n",
    "    # Train the model\n",
    "    history = model.fit(X_train, y_train, \n",
    "                        epochs=5, \n",
    "                        batch_size=128, \n",
    "                        validation_data=(X_val, y_val))\n",
    "\n",
    "    # Display the training history\n",
    "    print(history.history)\n",
    "else:\n",
    "    print(\"Tokenizer has not been initialized. Please initialize it and load the vocabulary before continuing.\")\n"
   ]
  },
  {
   "cell_type": "markdown",
   "id": "195c59bf80d2a2c4",
   "metadata": {
    "collapsed": false
   },
   "source": [
    "Plot the training history to visualize the model's learning progress. Your plot should include the training and validation loss."
   ]
  },
  {
   "cell_type": "code",
   "execution_count": 21,
   "id": "9e8cacec70d8f313",
   "metadata": {
    "id": "9e8cacec70d8f313"
   },
   "outputs": [
    {
     "data": {
      "image/png": "[encoded data removed]",
      "text/plain": [
       "<Figure size 1000x600 with 1 Axes>"
      ]
     },
     "metadata": {},
     "output_type": "display_data"
    }
   ],
   "source": [
    "import matplotlib.pyplot as plt\n",
    "\n",
    "# Your code here\n",
    "import matplotlib.pyplot as plt\n",
    "\n",
    "# Plot the training and validation loss\n",
    "plt.figure(figsize=(10, 6))\n",
    "plt.plot(history.history['loss'], label='Training Loss')\n",
    "plt.plot(history.history['val_loss'], label='Validation Loss')\n",
    "plt.xlabel('Epochs')\n",
    "plt.ylabel('Loss')\n",
    "plt.title('Training and Validation Loss Over Epochs')\n",
    "plt.legend()\n",
    "plt.show()\n"
   ]
  },
  {
   "cell_type": "markdown",
   "id": "3d9ed71305787aed",
   "metadata": {
    "collapsed": false
   },
   "source": [
    "# 3. Text Generation (Complete or Incomplete)\n",
    "\n",
    "Write a method called `generate_text` that uses the trained model to generate new text. The method should take the following parameters:\n",
    "\n",
    "*   `model`: The trained RNN model.\n",
    "*   `tokenizer`: The tokenizer used to pre-process the text data.\n",
    "*   `seed_text`: The seed text the model will use to generate new text.\n",
    "*   `max_sequence_len`: The maximum length of the sequence used to generate new text.\n",
    "\n",
    "The method should return the generated text.\n",
    "\n",
    "An overview of the text generation process you should follow:\n",
    "\n",
    "1. Tokenize the seed text using the tokenizer we built before.\n",
    "2. Pad the sequences to the same length as the training sequences - you can use the `pad_sequences` method from the `keras.preprocessing.sequence` module, which is documented [here](https://www.tensorflow.org/api_docs/python/tf/keras/preprocessing/sequence/pad_sequences).\n",
    "3. Use the model to predict the next token in the sequence. Remember that the model will output a probability distribution over the vocabulary, so you'll need to use `np.argmax` to find the token with the highest probability.\n",
    "4. Add the predicted token to the sequence and remove the first token.\n",
    "5. Repeat steps 3-4 until you have generated the desired number of tokens.\n",
    "6. Convert the generated token IDs back to words and return the combined result as a single string.\n",
    "\n",
    "This is a challenging task, so don't hesitate to ask for help if you need it. It's okay if the generated text doesn't make much sense yet - we'll work on improving the model next.\n",
    "As a bonus, you can make your method generate \"gpt-style\" by having it print out each word as it's generated, so you can see the text being generated in real time."
   ]
  },
  {
   "cell_type": "code",
   "execution_count": 22,
   "id": "d73dbf278a1265ef",
   "metadata": {
    "collapsed": false
   },
   "outputs": [],
   "source": [
    "from tensorflow.keras.preprocessing.sequence import pad_sequences\n",
    "import numpy as np\n",
    "\n",
    "def get_predicted_word(model, sequence):\n",
    "    \"\"\"\n",
    "    Get the predicted word from the model.\n",
    "    This helper function adds a bit of randomness in what word we predict.\n",
    "    \"\"\"\n",
    "    # Use the model to predict the next token in the sequence\n",
    "    yhat = model.predict(sequence, verbose=0)\n",
    "\n",
    "    # Get the index of the predicted word, according to the probabilities\n",
    "    yhat = np.random.choice(range(yhat.shape[1]), p=yhat.ravel())\n",
    "\n",
    "    return yhat\n",
    "\n",
    "def generate_text(model, tokenizer, seed_text, max_sequence_len):\n",
    "    \"\"\"\n",
    "    Generate new text using the trained model.\n",
    "    \"\"\"\n",
    "    # Tokenize the seed text\n",
    "    seed_text_tokens = tokenizer.texts_to_sequences([seed_text])[0]\n",
    "    generated_text = seed_text\n",
    "\n",
    "    for _ in range(max_sequence_len):\n",
    "        # Pad the sequence to the same length as the training sequences\n",
    "        sequence = pad_sequences([seed_text_tokens], maxlen=max_sequence_len, padding='pre')\n",
    "\n",
    "        # Predict the next token\n",
    "        predicted_word_index = get_predicted_word(model, sequence)\n",
    "\n",
    "        # Convert predicted token to word\n",
    "        predicted_word = tokenizer.index_word.get(predicted_word_index, '')\n",
    "\n",
    "        if not predicted_word:\n",
    "            break\n",
    "\n",
    "        # Append the predicted word to the seed text\n",
    "        generated_text += ' ' + predicted_word\n",
    "\n",
    "        # Add the predicted token to the sequence and remove the first token\n",
    "        seed_text_tokens.append(predicted_word_index)\n",
    "        seed_text_tokens = seed_text_tokens[1:]\n",
    "\n",
    "        # Print the generated word (optional, for real-time visualization)\n",
    "        print(predicted_word, end=' ')\n",
    "\n",
    "    return generated_text\n",
    "\n",
    "# Example usage\n",
    "# generated_text = generate_text(model, tokenizer, seed_text='Once upon a time', max_sequence_len=50)\n",
    "# print(\"\\nGenerated Text:\\n\", generated_text)\n"
   ]
  },
  {
   "cell_type": "code",
   "execution_count": 23,
   "id": "f463b0c3df49e2c",
   "metadata": {
    "collapsed": false
   },
   "outputs": [
    {
     "name": "stdout",
     "output_type": "stream",
     "text": [
      "80 and cannot be found out gives stronger fellows and leaves was bound your vassal the tragic watchmen we are bound to his looks for thither to the blood 63 and we deadly wall 4020 22 125 elements and vice from us is much for production towards thy looks quite "
     ]
    },
    {
     "data": {
      "text/plain": [
       "'hamlet 80 and cannot be found out gives stronger fellows and leaves was bound your vassal the tragic watchmen we are bound to his looks for thither to the blood 63 and we deadly wall 4020 22 125 elements and vice from us is much for production towards thy looks quite'"
      ]
     },
     "execution_count": 23,
     "metadata": {},
     "output_type": "execute_result"
    }
   ],
   "source": [
    "# Test the text generation function\n",
    "generate_text(model, tokenizer, 'hamlet', SEQ_LENGTH)"
   ]
  },
  {
   "cell_type": "markdown",
   "id": "5871d836a0135c41",
   "metadata": {
    "collapsed": false
   },
   "source": [
    "\n",
    "It's likely that the text generated by your model doesn't make much sense yet. This is because the model hasn't been trained for very long, and the training dataset is relatively small. \n",
    "\n",
    "# 4. Model Refinement (Complete or Incomplete)\n",
    "\n",
    "In this last section, you'll work on improving your model. There are many ways to do this, but here are a few ideas to get you started:\n",
    "\n",
    "* Use pre-trained embeddings: the code below will help you to load pre-trained embeddings through Keras. \n",
    "* Experiment with different model architectures, including the number of layers, the number of units in each layer, and the use of dropout layers.\n",
    "* Train your model for longer. You can also experiment with different batch sizes.\n",
    "\n",
    "Implement and test out at least one of these ideas. If you have other ideas for improving the model, feel free to try them out as well."
   ]
  },
  {
   "cell_type": "code",
   "execution_count": 24,
   "id": "43c65754",
   "metadata": {},
   "outputs": [],
   "source": [
    "import numpy as np\n",
    "\n",
    "# Path to your GloVe file\n",
    "glove_file_path = r'C:\\Users\\chadhrr\\OneDrive - OTPP\\Desktop\\DSI\\deep_learning\\02_activities\\assignments\\glove.6B\\glove.6B.300d.txt'\n",
    "\n",
    "def load_glove_embeddings(file_path):\n",
    "    embeddings_index = {}\n",
    "    with open(file_path, 'r', encoding='utf-8') as f:\n",
    "        for line in f:\n",
    "            values = line.split()\n",
    "            word = values[0]\n",
    "            coefs = np.asarray(values[1:], dtype='float32')\n",
    "            embeddings_index[word] = coefs\n",
    "    return embeddings_index\n",
    "\n",
    "glove_embeddings = load_glove_embeddings(glove_file_path)\n"
   ]
  },
  {
   "cell_type": "code",
   "execution_count": 45,
   "id": "dda8b0f845c20862",
   "metadata": {
    "collapsed": false
   },
   "outputs": [
    {
     "name": "stderr",
     "output_type": "stream",
     "text": [
      "'wget' is not recognized as an internal or external command,\n",
      "operable program or batch file.\n",
      "'unzip' is not recognized as an internal or external command,\n",
      "operable program or batch file.\n"
     ]
    }
   ],
   "source": [
    "!wget https://downloads.cs.stanford.edu/nlp/data/glove.6B.zip\n",
    "!unzip glove.6B.zip"
   ]
  },
  {
   "cell_type": "code",
   "execution_count": 25,
   "id": "e8b777220505635",
   "metadata": {
    "collapsed": false
   },
   "outputs": [
    {
     "name": "stdout",
     "output_type": "stream",
     "text": [
      "'glove.6B.100d.txt' File not found. Please make sure you have ran the previous cell.\n"
     ]
    }
   ],
   "source": [
    "# Load the pre-trained embeddings\n",
    "embeddings_index = {}\n",
    "try:\n",
    "    with open('glove.6B.100d.txt', encoding='utf-8') as f:\n",
    "        for line in f:\n",
    "            values = line.split()\n",
    "            word = values[0]\n",
    "            coefs = np.asarray(values[1:], dtype='float32')\n",
    "            embeddings_index[word] = coefs\n",
    "    print(f'Found {len(embeddings_index)} word vectors.')\n",
    "except FileNotFoundError:\n",
    "    print(\"'glove.6B.100d.txt' File not found. Please make sure you have ran the previous cell.\")"
   ]
  },
  {
   "cell_type": "code",
   "execution_count": 26,
   "id": "c314b062",
   "metadata": {},
   "outputs": [
    {
     "name": "stdout",
     "output_type": "stream",
     "text": [
      "Model: \"sequential_2\"\n",
      "_________________________________________________________________\n",
      " Layer (type)                Output Shape              Param #   \n",
      "=================================================================\n",
      " embedding_2 (Embedding)     (None, 50, 300)           18045000  \n",
      "                                                                 \n",
      " lstm_2 (LSTM)               (None, 50, 150)           270600    \n",
      "                                                                 \n",
      " dropout (Dropout)           (None, 50, 150)           0         \n",
      "                                                                 \n",
      " lstm_3 (LSTM)               (None, 150)               180600    \n",
      "                                                                 \n",
      " dropout_1 (Dropout)         (None, 150)               0         \n",
      "                                                                 \n",
      " dense_2 (Dense)             (None, 60150)             9082650   \n",
      "                                                                 \n",
      "=================================================================\n",
      "Total params: 27,578,850\n",
      "Trainable params: 9,533,850\n",
      "Non-trainable params: 18,045,000\n",
      "_________________________________________________________________\n",
      "Epoch 1/2\n",
      "8751/8751 [==============================] - 10912s 1s/step - loss: 6.3537 - accuracy: 0.0813 - val_loss: 5.8155 - val_accuracy: 0.1137\n",
      "Epoch 2/2\n",
      "8751/8751 [==============================] - 15022s 2s/step - loss: 5.7023 - accuracy: 0.1200 - val_loss: 5.5259 - val_accuracy: 0.1361\n"
     ]
    },
    {
     "data": {
      "image/png": "[encoded data removed]",
      "text/plain": [
       "<Figure size 640x480 with 1 Axes>"
      ]
     },
     "metadata": {},
     "output_type": "display_data"
    },
    {
     "ename": "ValueError",
     "evalue": "in user code:\n\n    File \"c:\\Users\\chadhrr\\AppData\\Local\\miniconda3\\envs\\dsi_participant\\lib\\site-packages\\keras\\engine\\training.py\", line 2041, in predict_function  *\n        return step_function(self, iterator)\n    File \"c:\\Users\\chadhrr\\AppData\\Local\\miniconda3\\envs\\dsi_participant\\lib\\site-packages\\keras\\engine\\training.py\", line 2027, in step_function  **\n        outputs = model.distribute_strategy.run(run_step, args=(data,))\n    File \"c:\\Users\\chadhrr\\AppData\\Local\\miniconda3\\envs\\dsi_participant\\lib\\site-packages\\keras\\engine\\training.py\", line 2015, in run_step  **\n        outputs = model.predict_step(data)\n    File \"c:\\Users\\chadhrr\\AppData\\Local\\miniconda3\\envs\\dsi_participant\\lib\\site-packages\\keras\\engine\\training.py\", line 1983, in predict_step\n        return self(x, training=False)\n    File \"c:\\Users\\chadhrr\\AppData\\Local\\miniconda3\\envs\\dsi_participant\\lib\\site-packages\\keras\\utils\\traceback_utils.py\", line 70, in error_handler\n        raise e.with_traceback(filtered_tb) from None\n    File \"c:\\Users\\chadhrr\\AppData\\Local\\miniconda3\\envs\\dsi_participant\\lib\\site-packages\\keras\\engine\\input_spec.py\", line 295, in assert_input_compatibility\n        raise ValueError(\n\n    ValueError: Input 0 of layer \"sequential_2\" is incompatible with the layer: expected shape=(None, 50), found shape=(None, 49)\n",
     "output_type": "error",
     "traceback": [
      "\u001b[1;31m---------------------------------------------------------------------------\u001b[0m",
      "\u001b[1;31mValueError\u001b[0m                                Traceback (most recent call last)",
      "Cell \u001b[1;32mIn[26], line 75\u001b[0m\n\u001b[0;32m     73\u001b[0m \u001b[38;5;66;03m# Example usage\u001b[39;00m\n\u001b[0;32m     74\u001b[0m seed_text \u001b[38;5;241m=\u001b[39m \u001b[38;5;124m\"\u001b[39m\u001b[38;5;124mOnce upon a time\u001b[39m\u001b[38;5;124m\"\u001b[39m\n\u001b[1;32m---> 75\u001b[0m generated_text \u001b[38;5;241m=\u001b[39m \u001b[43mgenerate_text\u001b[49m\u001b[43m(\u001b[49m\u001b[43mmodel\u001b[49m\u001b[43m,\u001b[49m\u001b[43m \u001b[49m\u001b[43mtokenizer\u001b[49m\u001b[43m,\u001b[49m\u001b[43m \u001b[49m\u001b[43mseed_text\u001b[49m\u001b[43m,\u001b[49m\u001b[43m \u001b[49m\u001b[43mMAX_SEQUENCE_LEN\u001b[49m\u001b[43m)\u001b[49m\n\u001b[0;32m     76\u001b[0m \u001b[38;5;28mprint\u001b[39m(generated_text)\n",
      "Cell \u001b[1;32mIn[26], line 67\u001b[0m, in \u001b[0;36mgenerate_text\u001b[1;34m(model, tokenizer, seed_text, max_sequence_len, num_words_to_generate)\u001b[0m\n\u001b[0;32m     65\u001b[0m token_list \u001b[38;5;241m=\u001b[39m tokenizer\u001b[38;5;241m.\u001b[39mtexts_to_sequences([seed_text])[\u001b[38;5;241m0\u001b[39m]\n\u001b[0;32m     66\u001b[0m token_list \u001b[38;5;241m=\u001b[39m pad_sequences([token_list], maxlen\u001b[38;5;241m=\u001b[39mmax_sequence_len \u001b[38;5;241m-\u001b[39m \u001b[38;5;241m1\u001b[39m, padding\u001b[38;5;241m=\u001b[39m\u001b[38;5;124m'\u001b[39m\u001b[38;5;124mpre\u001b[39m\u001b[38;5;124m'\u001b[39m)\n\u001b[1;32m---> 67\u001b[0m predicted_probs \u001b[38;5;241m=\u001b[39m \u001b[43mmodel\u001b[49m\u001b[38;5;241;43m.\u001b[39;49m\u001b[43mpredict\u001b[49m\u001b[43m(\u001b[49m\u001b[43mtoken_list\u001b[49m\u001b[43m,\u001b[49m\u001b[43m \u001b[49m\u001b[43mverbose\u001b[49m\u001b[38;5;241;43m=\u001b[39;49m\u001b[38;5;241;43m0\u001b[39;49m\u001b[43m)\u001b[49m\n\u001b[0;32m     68\u001b[0m predicted \u001b[38;5;241m=\u001b[39m np\u001b[38;5;241m.\u001b[39margmax(predicted_probs, axis\u001b[38;5;241m=\u001b[39m\u001b[38;5;241m1\u001b[39m)\n\u001b[0;32m     69\u001b[0m output_word \u001b[38;5;241m=\u001b[39m tokenizer\u001b[38;5;241m.\u001b[39mindex_word[predicted[\u001b[38;5;241m0\u001b[39m]]\n",
      "File \u001b[1;32mc:\\Users\\chadhrr\\AppData\\Local\\miniconda3\\envs\\dsi_participant\\lib\\site-packages\\keras\\utils\\traceback_utils.py:70\u001b[0m, in \u001b[0;36mfilter_traceback.<locals>.error_handler\u001b[1;34m(*args, **kwargs)\u001b[0m\n\u001b[0;32m     67\u001b[0m     filtered_tb \u001b[38;5;241m=\u001b[39m _process_traceback_frames(e\u001b[38;5;241m.\u001b[39m__traceback__)\n\u001b[0;32m     68\u001b[0m     \u001b[38;5;66;03m# To get the full stack trace, call:\u001b[39;00m\n\u001b[0;32m     69\u001b[0m     \u001b[38;5;66;03m# `tf.debugging.disable_traceback_filtering()`\u001b[39;00m\n\u001b[1;32m---> 70\u001b[0m     \u001b[38;5;28;01mraise\u001b[39;00m e\u001b[38;5;241m.\u001b[39mwith_traceback(filtered_tb) \u001b[38;5;28;01mfrom\u001b[39;00m \u001b[38;5;28;01mNone\u001b[39;00m\n\u001b[0;32m     71\u001b[0m \u001b[38;5;28;01mfinally\u001b[39;00m:\n\u001b[0;32m     72\u001b[0m     \u001b[38;5;28;01mdel\u001b[39;00m filtered_tb\n",
      "File \u001b[1;32m~\\AppData\\Local\\Temp\\__autograph_generated_filem3s5ip_q.py:15\u001b[0m, in \u001b[0;36mouter_factory.<locals>.inner_factory.<locals>.tf__predict_function\u001b[1;34m(iterator)\u001b[0m\n\u001b[0;32m     13\u001b[0m \u001b[38;5;28;01mtry\u001b[39;00m:\n\u001b[0;32m     14\u001b[0m     do_return \u001b[38;5;241m=\u001b[39m \u001b[38;5;28;01mTrue\u001b[39;00m\n\u001b[1;32m---> 15\u001b[0m     retval_ \u001b[38;5;241m=\u001b[39m ag__\u001b[38;5;241m.\u001b[39mconverted_call(ag__\u001b[38;5;241m.\u001b[39mld(step_function), (ag__\u001b[38;5;241m.\u001b[39mld(\u001b[38;5;28mself\u001b[39m), ag__\u001b[38;5;241m.\u001b[39mld(iterator)), \u001b[38;5;28;01mNone\u001b[39;00m, fscope)\n\u001b[0;32m     16\u001b[0m \u001b[38;5;28;01mexcept\u001b[39;00m:\n\u001b[0;32m     17\u001b[0m     do_return \u001b[38;5;241m=\u001b[39m \u001b[38;5;28;01mFalse\u001b[39;00m\n",
      "\u001b[1;31mValueError\u001b[0m: in user code:\n\n    File \"c:\\Users\\chadhrr\\AppData\\Local\\miniconda3\\envs\\dsi_participant\\lib\\site-packages\\keras\\engine\\training.py\", line 2041, in predict_function  *\n        return step_function(self, iterator)\n    File \"c:\\Users\\chadhrr\\AppData\\Local\\miniconda3\\envs\\dsi_participant\\lib\\site-packages\\keras\\engine\\training.py\", line 2027, in step_function  **\n        outputs = model.distribute_strategy.run(run_step, args=(data,))\n    File \"c:\\Users\\chadhrr\\AppData\\Local\\miniconda3\\envs\\dsi_participant\\lib\\site-packages\\keras\\engine\\training.py\", line 2015, in run_step  **\n        outputs = model.predict_step(data)\n    File \"c:\\Users\\chadhrr\\AppData\\Local\\miniconda3\\envs\\dsi_participant\\lib\\site-packages\\keras\\engine\\training.py\", line 1983, in predict_step\n        return self(x, training=False)\n    File \"c:\\Users\\chadhrr\\AppData\\Local\\miniconda3\\envs\\dsi_participant\\lib\\site-packages\\keras\\utils\\traceback_utils.py\", line 70, in error_handler\n        raise e.with_traceback(filtered_tb) from None\n    File \"c:\\Users\\chadhrr\\AppData\\Local\\miniconda3\\envs\\dsi_participant\\lib\\site-packages\\keras\\engine\\input_spec.py\", line 295, in assert_input_compatibility\n        raise ValueError(\n\n    ValueError: Input 0 of layer \"sequential_2\" is incompatible with the layer: expected shape=(None, 50), found shape=(None, 49)\n"
     ]
    }
   ],
   "source": [
    "import numpy as np\n",
    "from keras.models import Sequential\n",
    "from keras.layers import Embedding, LSTM, Dense, Dropout\n",
    "from tensorflow.keras.preprocessing.sequence import pad_sequences\n",
    "import matplotlib.pyplot as plt\n",
    "\n",
    "# Define constants\n",
    "VOCAB_SIZE = len(tokenizer.word_index) + 1  # Add 1 for padding token\n",
    "embedding_dim = 300  # GloVe embedding dimension\n",
    "MAX_SEQUENCE_LEN = 50  # Update this to match your data's sequence length\n",
    "\n",
    "# Load GloVe embeddings\n",
    "glove_file_path = 'C:\\\\Users\\\\chadhrr\\\\OneDrive - OTPP\\\\Desktop\\\\DSI\\\\deep_learning\\\\02_activities\\\\assignments\\\\glove.6B\\\\glove.6B.300d.txt'\n",
    "glove_embeddings = {}\n",
    "with open(glove_file_path, 'r', encoding='utf-8') as f:\n",
    "    for line in f:\n",
    "        values = line.split()\n",
    "        word = values[0]\n",
    "        vector = np.asarray(values[1:], dtype='float32')\n",
    "        glove_embeddings[word] = vector\n",
    "\n",
    "# Create an embedding matrix\n",
    "embedding_matrix = np.zeros((VOCAB_SIZE, embedding_dim))\n",
    "for word, i in tokenizer.word_index.items():\n",
    "    if i < VOCAB_SIZE:\n",
    "        embedding_vector = glove_embeddings.get(word)\n",
    "        if embedding_vector is not None:\n",
    "            embedding_matrix[i] = embedding_vector\n",
    "\n",
    "# Define the model with pre-trained GloVe embeddings\n",
    "model = Sequential([\n",
    "    Embedding(input_dim=VOCAB_SIZE, output_dim=embedding_dim, \n",
    "              weights=[embedding_matrix], input_length=MAX_SEQUENCE_LEN, trainable=False),\n",
    "    LSTM(150, return_sequences=True),\n",
    "    Dropout(0.2),\n",
    "    LSTM(150),\n",
    "    Dropout(0.2),\n",
    "    Dense(VOCAB_SIZE, activation='softmax')\n",
    "])\n",
    "\n",
    "model.compile(loss='sparse_categorical_crossentropy', optimizer='adam', metrics=['accuracy'])\n",
    "model.summary()\n",
    "\n",
    "# Pad sequences to match MAX_SEQUENCE_LEN\n",
    "X_train_padded = pad_sequences(X_train, maxlen=MAX_SEQUENCE_LEN, padding='post')\n",
    "X_val_padded = pad_sequences(X_val, maxlen=MAX_SEQUENCE_LEN, padding='post')\n",
    "\n",
    "# Train the model\n",
    "history = model.fit(X_train_padded, y_train, \n",
    "                    epochs=2,  # Increase the number of epochs for better training\n",
    "                    batch_size=128, \n",
    "                    validation_data=(X_val_padded, y_val))\n",
    "\n",
    "# Plot the training history\n",
    "plt.plot(history.history['loss'], label='train_loss')\n",
    "plt.plot(history.history['val_loss'], label='val_loss')\n",
    "plt.xlabel('Epochs')\n",
    "plt.ylabel('Loss')\n",
    "plt.legend()\n",
    "plt.show()\n",
    "\n",
    "# Generate text\n",
    "def generate_text(model, tokenizer, seed_text, max_sequence_len, num_words_to_generate=50):\n",
    "    for _ in range(num_words_to_generate):\n",
    "        token_list = tokenizer.texts_to_sequences([seed_text])[0]\n",
    "        token_list = pad_sequences([token_list], maxlen=max_sequence_len - 1, padding='pre')\n",
    "        predicted_probs = model.predict(token_list, verbose=0)\n",
    "        predicted = np.argmax(predicted_probs, axis=1)\n",
    "        output_word = tokenizer.index_word[predicted[0]]\n",
    "        seed_text += \" \" + output_word\n",
    "    return seed_text\n",
    "\n",
    "# Example usage\n",
    "seed_text = \"Once upon a time\"\n",
    "generated_text = generate_text(model, tokenizer, seed_text, MAX_SEQUENCE_LEN)\n",
    "print(generated_text)\n"
   ]
  },
  {
   "cell_type": "markdown",
   "id": "742095fb",
   "metadata": {},
   "source": [
    "## Criteria\n",
    "\n",
    "|Criteria|Complete|Incomplete|\n",
    "|----|----|----|\n",
    "|Task 1|The task has been completed successfully and there are no errors.|The task is still incomplete and there is at least one error.|\n",
    "|Task 2|The task has been completed successfully and there are no errors.|The task is still incomplete and there is at least one error.|\n",
    "|Task 3|The task has been completed successfully and there are no errors.|The task is still incomplete and there is at least one error.|\n",
    "|Task 4|The task has been completed successfully and there are no errors.|The task is still incomplete and there is at least one error.|"
   ]
  },
  {
   "cell_type": "markdown",
   "id": "1990e2d2",
   "metadata": {},
   "source": [
    "## Submission Information\n",
    "\n",
    "🚨**Please review our [Assignment Submission Guide](https://github.com/UofT-DSI/onboarding/blob/main/onboarding_documents/submissions.md)**🚨 for detailed instructions on how to format, branch, and submit your work. Following these guidelines is crucial for your submissions to be evaluated correctly.\n",
    "\n",
    "### Submission Parameters:\n",
    "* Submission Due Date: `HH:MM AM/PM - DD/MM/YYYY`\n",
    "* The branch name for your repo should be: `assignment-2`\n",
    "* What to submit for this assignment:\n",
    "    * This Jupyter Notebook (assignment_2.ipynb) should be populated and should be the only change in your pull request.\n",
    "* What the pull request link should look like for this assignment: `https://github.com/<your_github_username>/deep_learning/pull/<pr_id>`\n",
    "    * Open a private window in your browser. Copy and paste the link to your pull request into the address bar. Make sure you can see your pull request properly. This helps the technical facilitator and learning support staff review your submission easily.\n",
    "\n",
    "Checklist:\n",
    "- [ ] Created a branch with the correct naming convention.\n",
    "- [ ] Ensured that the repository is public.\n",
    "- [ ] Reviewed the PR description guidelines and adhered to them.\n",
    "- [ ] Verify that the link is accessible in a private browser window.\n",
    "\n",
    "If you encounter any difficulties or have questions, please don't hesitate to reach out to our team via our Slack at `#cohort-3-help`. Our Technical Facilitators and Learning Support staff are here to help you navigate any challenges."
   ]
  }
 ],
 "metadata": {
  "accelerator": "GPU",
  "colab": {
   "gpuType": "T4",
   "provenance": []
  },
  "kernelspec": {
   "display_name": "Python 3 (ipykernel)",
   "language": "python",
   "name": "python3"
  },
  "language_info": {
   "codemirror_mode": {
    "name": "ipython",
    "version": 3
   },
   "file_extension": ".py",
   "mimetype": "text/x-python",
   "name": "python",
   "nbconvert_exporter": "python",
   "pygments_lexer": "ipython3",
   "version": "3.9.18"
  }
 },
 "nbformat": 4,
 "nbformat_minor": 5
}
