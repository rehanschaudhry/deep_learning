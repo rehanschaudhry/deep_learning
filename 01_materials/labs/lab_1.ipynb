{
 "cells": [
  {
   "cell_type": "markdown",
   "metadata": {},
   "source": [
    "# Training Neural Networks with Keras\n",
    "\n",
    "Welcome to the first practical session of the course! In this session, we will learn how to train neural networks with Keras. We will start with a simple example of a feedforward neural network for classification and then we will study the impact of the initialization of the weights on the convergence of the training algorithm.\n",
    "\n",
    "Keras is a high-level neural network API, built on top of TensorFlow 2.0. It provides a user-friendly interface to build, train and deploy deep learning models. Keras is designed to be modular, fast and easy to use.\n",
    "\n",
    "Throughout this course, we will focus on using Keras and TensorFlow for building and training neural networks. However, there are other popular deep learning frameworks such as PyTorch, MXNet, CNTK, etc. that you can also use to build and train neural networks.\n",
    "\n",
    "In order to use our code on Google Colab, we will need to ensure that any required packages are installed. We will use the following packages in this session:\n",
    "\n",
    "- `tensorflow`: an open-source library for numerical computation and large-scale machine learning.\n",
    "- `matplotlib`: a plotting library for the Python programming language and its numerical mathematics extension NumPy.\n",
    "- `numpy`: a library for scientific computing in Python.\n",
    "- `scikit-learn`: a machine learning library for the Python programming language.\n",
    "- `pandas`: a library providing high-performance, easy-to-use data structures and data analysis tools for the Python programming language.\n",
    "\n",
    "The following cell will check if the packages are installed, and if not, it will install them. Students familiar with how pip works might note that it already checks this before installing! The reason for this code (which will also appear in subsequent notebooks) is to speed up execution if you re-run the entire notebook - it will skip the installation step if the packages are already installed."
   ]
  },
  {
   "cell_type": "markdown",
   "metadata": {
    "collapsed": false
   },
   "source": [
    "With the packages installed, we can now get started on the practical session!\n",
    "\n",
    "Today, we will be working with the famous MNIST dataset. MNIST (Modified National Institute of Standards and Technology) is a database of low resolution images of handwritten digits. The history here is interesting - the dataset was originally created in the 1980s, when researchers from the aforementioned institute collected samples from American Census Bureau employees and high school students. The dataset was then modified in the 1990s (hence the M in MNIST), and has since become a popular benchmark for machine learning algorithms. \n",
    "\n",
    "The dataset contains images, each of which is a 28x28 grayscale image of a handwritten digit. The goal is to classify each image into one of the 10 possible classes (0-9).\n",
    "\n",
    "![MNIST](https://upload.wikimedia.org/wikipedia/commons/2/27/MnistExamples.png)\n",
    "\n",
    "The Scikit-Learn library provides a convenient function to download and load the MNIST dataset. The following cell will download the dataset. Then we will take a look at the shape of the data."
   ]
  },
  {
   "cell_type": "code",
   "execution_count": 2,
   "metadata": {},
   "outputs": [
    {
     "data": {
      "image/png": "[encoded data removed]",
      "text/plain": [
       "<Figure size 1000x500 with 10 Axes>"
      ]
     },
     "metadata": {},
     "output_type": "display_data"
    }
   ],
   "source": [
    "import matplotlib.pyplot as plt\n",
    "import numpy as np\n",
    "\n",
    "from sklearn.datasets import load_digits\n",
    "\n",
    "digits = load_digits()\n",
    "\n",
    "fig, axes = plt.subplots(2, 5, figsize=(10, 5))\n",
    "for i, ax in enumerate(axes.ravel()):\n",
    "    ax.imshow(digits.images[i], cmap='gray')\n",
    "    ax.set_title(f'Label: {digits.target[i]}')\n",
    "    ax.axis('off')\n",
    "\n",
    "plt.tight_layout()\n",
    "plt.show()"
   ]
  },
  {
   "cell_type": "code",
   "execution_count": 3,
   "metadata": {},
   "outputs": [
    {
     "data": {
      "text/plain": [
       "(1797, 8, 8)"
      ]
     },
     "execution_count": 3,
     "metadata": {},
     "output_type": "execute_result"
    }
   ],
   "source": [
    "digits.images.shape"
   ]
  },
  {
   "cell_type": "markdown",
   "metadata": {},
   "source": [
    "The expected output will be:\n",
    "```\n",
    "(1797, 8, 8)\n",
    "```\n",
    "\n",
    "This output indicates that:\n",
    "- There are 1797 images in the dataset.\n",
    "- Each image is 8x8 pixels."
   ]
  },
  {
   "cell_type": "markdown",
   "metadata": {
    "collapsed": false
   },
   "source": [
    "This means that we have 1797 images, each of which is a 8x8 image. For basic image processing, we will need to flatten the images into a 1D array. In this case, Scikit-Learn has already provided the data in this format too:"
   ]
  },
  {
   "cell_type": "code",
   "execution_count": 4,
   "metadata": {},
   "outputs": [
    {
     "data": {
      "text/plain": [
       "(1797, 64)"
      ]
     },
     "execution_count": 4,
     "metadata": {},
     "output_type": "execute_result"
    }
   ],
   "source": [
    "digits.data.shape"
   ]
  },
  {
   "cell_type": "markdown",
   "metadata": {},
   "source": [
    "This output indicates that:\n",
    "\n",
    "There are 1797 images in the dataset.\n",
    "Each image is represented as a one-dimensional array with 64 elements (corresponding to the 64 pixels in the 8x8 image)."
   ]
  },
  {
   "cell_type": "markdown",
   "metadata": {
    "collapsed": false
   },
   "source": [
    "For each image, we also have the corresponding label (or target, or class) in `digits.target`:"
   ]
  },
  {
   "cell_type": "code",
   "execution_count": 5,
   "metadata": {},
   "outputs": [
    {
     "data": {
      "text/plain": [
       "(1797,)"
      ]
     },
     "execution_count": 5,
     "metadata": {},
     "output_type": "execute_result"
    }
   ],
   "source": [
    "digits.target.shape"
   ]
  },
  {
   "cell_type": "markdown",
   "metadata": {},
   "source": [
    "This output indicates that:\n",
    "\n",
    "There are 1797 target values in the dataset.\n",
    "Each target value corresponds to the label of one image in the dataset.\n",
    "So, digits.target contains 1797 elements, each representing the label (digit) for one of the images in the dataset."
   ]
  },
  {
   "cell_type": "markdown",
   "metadata": {
    "collapsed": false
   },
   "source": [
    "We can take a look at some random images from the dataset. The following cell will select 9 random images and plot them in a 3x3 grid (meaning that you can rerun the cell to see different images)."
   ]
  },
  {
   "cell_type": "code",
   "execution_count": 6,
   "metadata": {},
   "outputs": [
    {
     "data": {
      "image/png": "[encoded data removed]",
      "text/plain": [
       "<Figure size 600x600 with 9 Axes>"
      ]
     },
     "metadata": {},
     "output_type": "display_data"
    }
   ],
   "source": [
    "# Selecting 9 random indices\n",
    "random_indices = np.random.choice(len(digits.images), 9, replace=False)\n",
    "\n",
    "# Creating a 3x3 grid plot\n",
    "fig, axes = plt.subplots(3, 3, figsize=(6, 6))\n",
    "\n",
    "for i, ax in enumerate(axes.flat):\n",
    "    ax.imshow(digits.images[random_indices[i]], cmap=plt.cm.gray_r, interpolation='nearest')\n",
    "    ax.set_title(f\"Label: {digits.target[random_indices[i]]}\")\n",
    "\n",
    "    # Removing axis labels\n",
    "    ax.set_xticks([])\n",
    "    ax.set_yticks([])\n",
    "\n",
    "plt.show()"
   ]
  },
  {
   "cell_type": "markdown",
   "metadata": {
    "collapsed": false
   },
   "source": [
    "As you can see, these images are very low resolution. This is because they were originally scanned from paper forms, and then scaled down to 8x8 pixels. This is a common problem in machine learning - the quality of the data is often a limiting factor in the performance of the model. In this case, the low resolution of the images makes it difficult to distinguish between some digits, even for humans. For example, the following images are all labelled as 9, but they look very different:"
   ]
  },
  {
   "cell_type": "code",
   "execution_count": 8,
   "metadata": {
    "collapsed": false
   },
   "outputs": [
    {
     "data": {
      "image/png": "[encoded data removed]",
      "text/plain": [
       "<Figure size 600x600 with 9 Axes>"
      ]
     },
     "metadata": {},
     "output_type": "display_data"
    }
   ],
   "source": [
    "# Selecting 9 random indices of images labelled as 9\n",
    "random_indices = np.random.choice(np.where(digits.target == 9)[0], 9, replace=False)\n",
    "\n",
    "# Creating a 3x3 grid plot\n",
    "fig, axes = plt.subplots(3, 3, figsize=(6, 6))\n",
    "\n",
    "for i, ax in enumerate(axes.flat):\n",
    "    ax.imshow(digits.images[random_indices[i]], cmap=plt.cm.gray_r, interpolation='nearest')\n",
    "    ax.set_title(f\"Label: {digits.target[random_indices[i]]}\")\n",
    "\n",
    "    # Removing axis labels\n",
    "    ax.set_xticks([])\n",
    "    ax.set_yticks([])\n",
    "    \n",
    "plt.show()"
   ]
  },
  {
   "cell_type": "markdown",
   "metadata": {
    "collapsed": false
   },
   "source": [
    "While we are plotting the samples as images, remember that our model is only going to see a 1D array of numbers. "
   ]
  },
  {
   "cell_type": "markdown",
   "metadata": {},
   "source": [
    "## Train / Test Split\n",
    "\n",
    "In order to understand how well our model performs on _new_ data, we need to split our dataset into a training set and a test set. The training set will be used to train the model, and the test set will be used to evaluate the performance of the model.\n",
    "\n",
    "Let's keep some held-out data to be able to measure the generalization performance of our model. "
   ]
  },
  {
   "cell_type": "code",
   "execution_count": 7,
   "metadata": {},
   "outputs": [],
   "source": [
    "from sklearn.model_selection import train_test_split\n",
    "\n",
    "\n",
    "X_train, X_test, y_train, y_test = train_test_split(\n",
    "    digits.data, \n",
    "    digits.target,\n",
    "    test_size=0.2, # 20% of the data is used for testing\n",
    "    random_state=42 # Providing a value here means getting the same \"random\" split every time\n",
    ")"
   ]
  },
  {
   "cell_type": "markdown",
   "metadata": {
    "collapsed": false
   },
   "source": [
    "Let's confirm that the data has been split correctly:"
   ]
  },
  {
   "cell_type": "code",
   "execution_count": 8,
   "metadata": {
    "collapsed": false
   },
   "outputs": [
    {
     "name": "stdout",
     "output_type": "stream",
     "text": [
      "X_train shape: (1437, 64)\n",
      "y_train shape: (1437,)\n",
      "X_test shape: (360, 64)\n",
      "y_test shape: (360,)\n"
     ]
    }
   ],
   "source": [
    "print(f'X_train shape: {X_train.shape}')\n",
    "print(f'y_train shape: {y_train.shape}')\n",
    "print(f'X_test shape: {X_test.shape}')\n",
    "print(f'y_test shape: {y_test.shape}')"
   ]
  },
  {
   "cell_type": "markdown",
   "metadata": {
    "collapsed": false
   },
   "source": [
    "This is what we expected to see. It's always good to check as you go, to make sure that you haven't made a mistake somewhere - this is something that working in a notebook like this makes it easy to do."
   ]
  },
  {
   "cell_type": "markdown",
   "metadata": {},
   "source": [
    "## Preprocessing of the Target Data\n",
    "\n",
    "The labels that we have are integers between 0 and 9. However, we want to train a neural network to classify the images into one of 10 classes. It can be a little counter-intuitive because we are dealing with numbers, but our classes are not ordinal.\n",
    "\n",
    "What do we mean by that? Let's imagine we were trying to predict the height of a building (separated into classes) from images. If a given building was actually 10m tall, and our model predicted 9m, we would consider that to be a better prediction than if it predicted 1m. This is because the classes are ordinal - there is meaning in the difference between the classes.\n",
    "\n",
    "In our case, even though we are dealing with numbers, the classes are not ordinal. If a given image is actually a 9, and our model predicts 8, we would consider that to be just as bad as if it predicted 1. This is because the classes are not ordered, and the difference between the classes is not meaningful.\n",
    "\n",
    "Because of this, we need to convert our labels from an integer value into a one-hot encoded vector. This means that each label will be represented as a vector of length 10, with a 1 in the position corresponding to the class, and 0s everywhere else. For example, the label 9 would be represented as `[0, 0, 0, 0, 0, 0, 0, 0, 0, 1]`. This is a common way of representing categorical data in machine learning. By doing this, we ensure that our model is taught the correct relationship between the classes."
   ]
  },
  {
   "cell_type": "code",
   "execution_count": 9,
   "metadata": {},
   "outputs": [
    {
     "name": "stdout",
     "output_type": "stream",
     "text": [
      "Before one-hot encoding: 6\n",
      "After one-hot encoding: [0. 0. 0. 0. 0. 0. 1. 0. 0. 0.]\n"
     ]
    }
   ],
   "source": [
    "from tensorflow.keras.utils import to_categorical\n",
    "\n",
    "print(f'Before one-hot encoding: {y_train[0]}')\n",
    "y_train = to_categorical(y_train, num_classes=10)\n",
    "y_test = to_categorical(y_test, num_classes=10)\n",
    "print(f'After one-hot encoding: {y_train[0]}')"
   ]
  },
  {
   "cell_type": "markdown",
   "metadata": {},
   "source": [
    "## Feed Forward Neural Networks with Keras\n",
    "\n",
    "Now that we have prepared our data, it's time to build a simple neural network! In this section, we will use the Keras API to build a simple feed forward neural network. We will then train the model on the MNIST dataset, and evaluate its performance on the test set.\n",
    "\n",
    "In most modern deep learning frameworks, the process of building a model can be broken down into a few steps:\n",
    "\n",
    "- Define the model architecture: this is where we define the layers of the model, and how they are connected to each other.\n",
    "- Compile the model: this is where we define the loss function, the optimizer, and the metrics that we want to use to evaluate the model.\n",
    "- Train the model: this is where we train the model on the training data.\n",
    "\n",
    "Let's start with defining the model architecture. There are two ways to do this in Keras - the Sequential API and the Functional API. The Sequential API is the simplest way to build a model, and is suitable for most use cases. The Functional API is more flexible, and allows you to build more complex models. We will start with the Sequential API, and then we will look at the Functional API later in the course.\n",
    "\n",
    "Our simple neural network will be \"fully-connected\". This means that each neuron in a given layer is connected to every neuron in the next layer. This is also known as a \"dense\" layer. We will use the `Dense` class from Keras to define our layers."
   ]
  },
  {
   "cell_type": "code",
   "execution_count": 10,
   "metadata": {
    "collapsed": false
   },
   "outputs": [
    {
     "name": "stdout",
     "output_type": "stream",
     "text": [
      "Model: \"sequential\"\n",
      "_________________________________________________________________\n",
      " Layer (type)                Output Shape              Param #   \n",
      "=================================================================\n",
      " dense (Dense)               (None, 64)                4160      \n",
      "                                                                 \n",
      " dense_1 (Dense)             (None, 64)                4160      \n",
      "                                                                 \n",
      " dense_2 (Dense)             (None, 10)                650       \n",
      "                                                                 \n",
      "=================================================================\n",
      "Total params: 8,970\n",
      "Trainable params: 8,970\n",
      "Non-trainable params: 0\n",
      "_________________________________________________________________\n"
     ]
    }
   ],
   "source": [
    "from tensorflow.keras.models import Sequential\n",
    "from tensorflow.keras.layers import Dense\n",
    "\n",
    "model = Sequential()\n",
    "\n",
    "# Input layer\n",
    "model.add(Dense(64, activation='relu', input_shape=(64,))) # 64 neurons, ReLU activation, input shape of 64\n",
    "\n",
    "# Hidden layer\n",
    "model.add(Dense(64, activation='relu')) # 64 neurons, ReLU activation\n",
    "\n",
    "# Output layer\n",
    "model.add(Dense(10, activation='softmax')) # 10 neurons, softmax activation\n",
    "\n",
    "model.summary()"
   ]
  },
  {
   "cell_type": "markdown",
   "metadata": {
    "collapsed": false
   },
   "source": [
    "Congratulations! You have just built your first neural network with Keras. As we can confirm from the `model.summary()` output, our model has 3 layers. The first layer has 64 neurons, the second layer has 64 neurons, and the output layer has 10 neurons. The output layer uses the softmax activation function, which is commonly used for multi-class classification problems. The other layers use the ReLU activation function, which is commonly used for hidden layers in neural networks.\n",
    "\n",
    "Next, we need to compile the model. This is where we define the loss function, the optimizer, and the metrics that we want to use to evaluate the model. We will use the `compile` method of the model to do this."
   ]
  },
  {
   "cell_type": "code",
   "execution_count": 11,
   "metadata": {
    "collapsed": false
   },
   "outputs": [],
   "source": [
    "model.compile(\n",
    "    loss='categorical_crossentropy', # Loss function\n",
    "    optimizer='sgd', # Optimizer\n",
    "    metrics=['accuracy'] # Metrics to evaluate the model\n",
    ")"
   ]
  },
  {
   "cell_type": "markdown",
   "metadata": {
    "collapsed": false
   },
   "source": [
    "Because we are predicting which class a sample belongs to, we will use the `categorical_crossentropy` function. This loss function is commonly used for multi-class classification problems. \n",
    "\n",
    "For our optimizer, we are using the standard stochastic gradient descent (SGD) algorithm. This is a simple optimizer that works well for many problems. We will look at more advanced optimizers later in the course.\n",
    "\n",
    "Finally, we are using the `accuracy` metric to evaluate the model. This is a common metric for classification problems, and it is simply the fraction of samples that are correctly classified. This is an easier metric for us to understand, but it's not quite as useful for actually training the model (for example, it doesn't tell us how \"confident\" the model is in its predictions).\n",
    "\n",
    "Now that we have (a) defined the model architecture and (b) compiled the model, we are ready to train the model. We will use the `fit` method of the model to do this."
   ]
  },
  {
   "cell_type": "code",
   "execution_count": 14,
   "metadata": {
    "collapsed": false
   },
   "outputs": [
    {
     "name": "stdout",
     "output_type": "stream",
     "text": [
      "Epoch 1/15\n",
      "36/36 [==============================] - 0s 7ms/step - loss: 0.0243 - accuracy: 0.9983 - val_loss: 0.1775 - val_accuracy: 0.9514\n",
      "Epoch 2/15\n",
      "36/36 [==============================] - 0s 6ms/step - loss: 0.0226 - accuracy: 0.9974 - val_loss: 0.1812 - val_accuracy: 0.9514\n",
      "Epoch 3/15\n",
      "36/36 [==============================] - 0s 6ms/step - loss: 0.0221 - accuracy: 0.9974 - val_loss: 0.1768 - val_accuracy: 0.9549\n",
      "Epoch 4/15\n",
      "36/36 [==============================] - 0s 5ms/step - loss: 0.0202 - accuracy: 0.9983 - val_loss: 0.1729 - val_accuracy: 0.9514\n",
      "Epoch 5/15\n",
      "36/36 [==============================] - 0s 5ms/step - loss: 0.0191 - accuracy: 0.9991 - val_loss: 0.1713 - val_accuracy: 0.9514\n",
      "Epoch 6/15\n",
      "36/36 [==============================] - 0s 5ms/step - loss: 0.0179 - accuracy: 1.0000 - val_loss: 0.1766 - val_accuracy: 0.9514\n",
      "Epoch 7/15\n",
      "36/36 [==============================] - 0s 6ms/step - loss: 0.0172 - accuracy: 0.9991 - val_loss: 0.1710 - val_accuracy: 0.9549\n",
      "Epoch 8/15\n",
      "36/36 [==============================] - 0s 5ms/step - loss: 0.0160 - accuracy: 0.9991 - val_loss: 0.1743 - val_accuracy: 0.9549\n",
      "Epoch 9/15\n",
      "36/36 [==============================] - 0s 5ms/step - loss: 0.0155 - accuracy: 0.9991 - val_loss: 0.1736 - val_accuracy: 0.9549\n",
      "Epoch 10/15\n",
      "36/36 [==============================] - 0s 6ms/step - loss: 0.0148 - accuracy: 1.0000 - val_loss: 0.1747 - val_accuracy: 0.9549\n",
      "Epoch 11/15\n",
      "36/36 [==============================] - 0s 6ms/step - loss: 0.0143 - accuracy: 0.9991 - val_loss: 0.1709 - val_accuracy: 0.9549\n",
      "Epoch 12/15\n",
      "36/36 [==============================] - 0s 6ms/step - loss: 0.0138 - accuracy: 0.9991 - val_loss: 0.1698 - val_accuracy: 0.9549\n",
      "Epoch 13/15\n",
      "36/36 [==============================] - 0s 6ms/step - loss: 0.0129 - accuracy: 1.0000 - val_loss: 0.1688 - val_accuracy: 0.9549\n",
      "Epoch 14/15\n",
      "36/36 [==============================] - 0s 5ms/step - loss: 0.0125 - accuracy: 1.0000 - val_loss: 0.1680 - val_accuracy: 0.9549\n",
      "Epoch 15/15\n",
      "36/36 [==============================] - 0s 5ms/step - loss: 0.0119 - accuracy: 1.0000 - val_loss: 0.1731 - val_accuracy: 0.9583\n"
     ]
    },
    {
     "data": {
      "text/plain": [
       "<keras.callbacks.History at 0x1c16c3e1fd0>"
      ]
     },
     "execution_count": 14,
     "metadata": {},
     "output_type": "execute_result"
    }
   ],
   "source": [
    "model.fit(\n",
    "    X_train, # Training data\n",
    "    y_train, # Training labels\n",
    "    epochs=15, # Number of epochs\n",
    "    batch_size=32, # Number of samples per batch\n",
    "    validation_split=0.2 # Use 20% of the data for validation\n",
    ")"
   ]
  },
  {
   "cell_type": "markdown",
   "metadata": {
    "collapsed": false
   },
   "source": [
    "We have now trained our model! We can see that the model has been trained for 5 epochs, and the loss and accuracy have been printed for each epoch. We can also see that the model has been evaluated on the validation data at the end of each epoch. This is useful for us to see how the model is performing on data that it hasn't seen during training.\n",
    "\n",
    "Once the model is trained, it's time to evaluate the model on the test set. We can use the `evaluate` method of the model to do this. If you were building a model for a real-world application, this is the very last thing you would do, and the result here would be the figure you'd report in your paper or presentation."
   ]
  },
  {
   "cell_type": "code",
   "execution_count": 15,
   "metadata": {
    "collapsed": false
   },
   "outputs": [
    {
     "name": "stdout",
     "output_type": "stream",
     "text": [
      "12/12 [==============================] - 0s 3ms/step - loss: 0.1102 - accuracy: 0.9639\n",
      "Loss:     0.11\n",
      "Accuracy: 96.39%\n"
     ]
    }
   ],
   "source": [
    "loss, accuracy = model.evaluate(X_test, y_test)\n",
    "\n",
    "print(f'Loss:     {loss:.2f}')\n",
    "print(f'Accuracy: {accuracy*100:.2f}%')"
   ]
  },
  {
   "cell_type": "markdown",
   "metadata": {
    "collapsed": false
   },
   "source": [
    "Hopefully you have achieved an accuracy of around 95%. This is pretty good, but we can do better! In the next section, we will look at how we can improve the performance of our model by using a more advanced optimizer. But before we get there, let's do one other thing - let's look at the predictions that our model is making on the test set. When you are building a model, it's often useful to have a look at some of the examples your model is getting wrong. Sometimes this can reveal problems with the data, or it can give you ideas for how to improve your model."
   ]
  },
  {
   "cell_type": "code",
   "execution_count": 16,
   "metadata": {
    "collapsed": false
   },
   "outputs": [
    {
     "name": "stdout",
     "output_type": "stream",
     "text": [
      "12/12 [==============================] - 0s 3ms/step\n"
     ]
    },
    {
     "data": {
      "image/png": "[encoded data removed]",
      "text/plain": [
       "<Figure size 600x600 with 9 Axes>"
      ]
     },
     "metadata": {},
     "output_type": "display_data"
    }
   ],
   "source": [
    "# Get the predictions for the test data\n",
    "predictions = model.predict(X_test)\n",
    "\n",
    "# Get the index of the largest probability (i.e. the predicted class)\n",
    "predicted_classes = np.argmax(predictions, axis=1)\n",
    "true_classes = np.argmax(y_test, axis=1)\n",
    "misclassified_indices = np.where(predicted_classes != true_classes)[0]\n",
    "\n",
    "# Get the misclassified samples themselves\n",
    "misclassified_samples = X_test[misclassified_indices]\n",
    "misclassified_labels = np.argmax(y_test[misclassified_indices], axis=1)\n",
    "\n",
    "# Pick 9 random misclassified samples\n",
    "random_indices = np.random.choice(len(misclassified_indices), 9, replace=False)\n",
    "\n",
    "fig, axes = plt.subplots(3, 3, figsize=(6, 6))\n",
    "for i, ax in enumerate(axes.flat):\n",
    "    ax.imshow(misclassified_samples[random_indices[i]].reshape(8, 8), cmap=plt.cm.gray_r, interpolation='nearest')\n",
    "    ax.set_title(f\"Pred: {predicted_classes[misclassified_indices[random_indices[i]]]}, Real: {misclassified_labels[random_indices[i]]}\")\n",
    "\n",
    "    # Removing axis labels\n",
    "    ax.set_xticks([])\n",
    "    ax.set_yticks([])\n",
    "    \n",
    "plt.show()"
   ]
  },
  {
   "cell_type": "markdown",
   "metadata": {
    "collapsed": false
   },
   "source": [
    "What do you think? Would you have made the same mistakes as the model? Determining whether the mistakes are \"understandable\" is a rough way of seeing if you could improve the model further, or if this is the best you can do with the data you have."
   ]
  },
  {
   "cell_type": "markdown",
   "metadata": {},
   "source": [
    "### b) Exercises: Impact of the Optimizer\n",
    "\n",
    "In this section, you will play around with the optimizer and see how it affects the performance of the model. We will start with the standard SGD optimizer, and then we will look at more advanced optimizers.\n",
    "\n",
    "1. Try decreasing the learning rate of the SGD optimizer by a factor of 10, or 100. What do you observe?\n",
    "2. Try increasing the learning rate of the SGD optimizer. What happens?\n",
    "3. The SGD optimizer has a momentum parameter. In a nutshell, this parameter controls how much the gradient from the previous step affects the current step. Try enabling momentum in the SGD optimizer with a value of 0.9. What happens?\n",
    "  \n",
    "**Notes**: \n",
    "\n",
    "The keras API documentation is available at:\n",
    "\n",
    "https://www.tensorflow.org/api_docs/python/tf/keras\n",
    "\n",
    "It is also possible to learn more about the parameters of a class by using the question mark: type and evaluate:\n",
    "\n",
    "```python\n",
    "optimizers.SGD?\n",
    "```\n",
    "\n",
    "in a jupyter notebook cell.\n",
    "\n",
    "It is also possible to type the beginning of a function call / constructor and type \"shift-tab\" after the opening paren:\n",
    "\n",
    "```python\n",
    "optimizers.SGD(<shift-tab>\n",
    "```"
   ]
  },
  {
   "cell_type": "code",
   "execution_count": 17,
   "metadata": {},
   "outputs": [
    {
     "name": "stdout",
     "output_type": "stream",
     "text": [
      "Epoch 1/20\n",
      "36/36 [==============================] - 1s 11ms/step - loss: 1.4306 - accuracy: 0.6353 - val_loss: 0.6472 - val_accuracy: 0.8021\n",
      "Epoch 2/20\n",
      "36/36 [==============================] - 0s 5ms/step - loss: 0.4261 - accuracy: 0.8755 - val_loss: 0.4627 - val_accuracy: 0.8438\n",
      "Epoch 3/20\n",
      "36/36 [==============================] - 0s 5ms/step - loss: 0.2834 - accuracy: 0.9164 - val_loss: 0.3482 - val_accuracy: 0.9062\n",
      "Epoch 4/20\n",
      "36/36 [==============================] - 0s 5ms/step - loss: 0.2076 - accuracy: 0.9408 - val_loss: 0.3064 - val_accuracy: 0.9132\n",
      "Epoch 5/20\n",
      "36/36 [==============================] - 0s 6ms/step - loss: 0.1817 - accuracy: 0.9417 - val_loss: 0.2764 - val_accuracy: 0.9062\n",
      "Epoch 6/20\n",
      "36/36 [==============================] - 0s 5ms/step - loss: 0.1497 - accuracy: 0.9600 - val_loss: 0.2848 - val_accuracy: 0.8958\n",
      "Epoch 7/20\n",
      "36/36 [==============================] - 0s 6ms/step - loss: 0.1233 - accuracy: 0.9695 - val_loss: 0.2749 - val_accuracy: 0.9097\n",
      "Epoch 8/20\n",
      "36/36 [==============================] - 0s 6ms/step - loss: 0.1111 - accuracy: 0.9721 - val_loss: 0.2153 - val_accuracy: 0.9306\n",
      "Epoch 9/20\n",
      "36/36 [==============================] - 0s 5ms/step - loss: 0.0943 - accuracy: 0.9791 - val_loss: 0.2315 - val_accuracy: 0.9236\n",
      "Epoch 10/20\n",
      "36/36 [==============================] - 0s 5ms/step - loss: 0.0832 - accuracy: 0.9835 - val_loss: 0.2057 - val_accuracy: 0.9306\n",
      "Epoch 11/20\n",
      "36/36 [==============================] - 0s 6ms/step - loss: 0.0803 - accuracy: 0.9809 - val_loss: 0.1963 - val_accuracy: 0.9410\n",
      "Epoch 12/20\n",
      "36/36 [==============================] - 0s 6ms/step - loss: 0.0679 - accuracy: 0.9887 - val_loss: 0.1926 - val_accuracy: 0.9306\n",
      "Epoch 13/20\n",
      "36/36 [==============================] - 0s 6ms/step - loss: 0.0631 - accuracy: 0.9852 - val_loss: 0.1977 - val_accuracy: 0.9444\n",
      "Epoch 14/20\n",
      "36/36 [==============================] - 0s 6ms/step - loss: 0.0541 - accuracy: 0.9913 - val_loss: 0.1906 - val_accuracy: 0.9340\n",
      "Epoch 15/20\n",
      "36/36 [==============================] - 0s 6ms/step - loss: 0.0539 - accuracy: 0.9904 - val_loss: 0.1959 - val_accuracy: 0.9375\n",
      "Epoch 16/20\n",
      "36/36 [==============================] - 0s 6ms/step - loss: 0.0483 - accuracy: 0.9939 - val_loss: 0.1889 - val_accuracy: 0.9375\n",
      "Epoch 17/20\n",
      "36/36 [==============================] - 0s 6ms/step - loss: 0.0466 - accuracy: 0.9922 - val_loss: 0.1701 - val_accuracy: 0.9444\n",
      "Epoch 18/20\n",
      "36/36 [==============================] - 0s 6ms/step - loss: 0.0435 - accuracy: 0.9939 - val_loss: 0.1611 - val_accuracy: 0.9444\n",
      "Epoch 19/20\n",
      "36/36 [==============================] - 0s 5ms/step - loss: 0.0386 - accuracy: 0.9948 - val_loss: 0.1577 - val_accuracy: 0.9514\n",
      "Epoch 20/20\n",
      "36/36 [==============================] - 0s 5ms/step - loss: 0.0346 - accuracy: 0.9939 - val_loss: 0.1529 - val_accuracy: 0.9479\n",
      "12/12 [==============================] - 0s 4ms/step - loss: 0.1110 - accuracy: 0.9611\n",
      "Loss (SGD LR 0.01):     0.11\n",
      "Accuracy (SGD LR 0.01): 96.11%\n"
     ]
    }
   ],
   "source": [
    "# Your code here - copy the relevant parts from the previous section and add more cells as needed\n",
    "# Decrease by factor of 10\n",
    "from tensorflow.keras.optimizers import SGD\n",
    "\n",
    "# Create a new instance of the model\n",
    "model_sgd_lr_01 = Sequential()\n",
    "model_sgd_lr_01.add(Dense(64, activation='relu', input_shape=(64,)))\n",
    "model_sgd_lr_01.add(Dense(64, activation='relu'))\n",
    "model_sgd_lr_01.add(Dense(10, activation='softmax'))\n",
    "\n",
    "# Compile the model with SGD optimizer and a decreased learning rate (factor of 10)\n",
    "optimizer_sgd_lr_01 = SGD(learning_rate=0.01) # Default is 0.1\n",
    "model_sgd_lr_01.compile(loss='categorical_crossentropy', optimizer=optimizer_sgd_lr_01, metrics=['accuracy'])\n",
    "\n",
    "# Train the model\n",
    "history_sgd_lr_01 = model_sgd_lr_01.fit(X_train, y_train, epochs=20, validation_split=0.2, verbose=1)\n",
    "\n",
    "# Evaluate the model\n",
    "loss_sgd_lr_01, accuracy_sgd_lr_01 = model_sgd_lr_01.evaluate(X_test, y_test)\n",
    "print(f'Loss (SGD LR 0.01):     {loss_sgd_lr_01:.2f}')\n",
    "print(f'Accuracy (SGD LR 0.01): {accuracy_sgd_lr_01*100:.2f}%')\n"
   ]
  },
  {
   "cell_type": "code",
   "execution_count": 18,
   "metadata": {},
   "outputs": [
    {
     "name": "stdout",
     "output_type": "stream",
     "text": [
      "Epoch 1/20\n",
      "36/36 [==============================] - 1s 10ms/step - loss: 3.8833 - accuracy: 0.1410 - val_loss: 2.4210 - val_accuracy: 0.2708\n",
      "Epoch 2/20\n",
      "36/36 [==============================] - 0s 6ms/step - loss: 2.0525 - accuracy: 0.3316 - val_loss: 1.7018 - val_accuracy: 0.4757\n",
      "Epoch 3/20\n",
      "36/36 [==============================] - 0s 5ms/step - loss: 1.5210 - accuracy: 0.4900 - val_loss: 1.3270 - val_accuracy: 0.5799\n",
      "Epoch 4/20\n",
      "36/36 [==============================] - 0s 5ms/step - loss: 1.2228 - accuracy: 0.5875 - val_loss: 1.1154 - val_accuracy: 0.6354\n",
      "Epoch 5/20\n",
      "36/36 [==============================] - 0s 5ms/step - loss: 1.0319 - accuracy: 0.6597 - val_loss: 0.9598 - val_accuracy: 0.6736\n",
      "Epoch 6/20\n",
      "36/36 [==============================] - 0s 6ms/step - loss: 0.8958 - accuracy: 0.7189 - val_loss: 0.8565 - val_accuracy: 0.7431\n",
      "Epoch 7/20\n",
      "36/36 [==============================] - 0s 7ms/step - loss: 0.7955 - accuracy: 0.7415 - val_loss: 0.7750 - val_accuracy: 0.7847\n",
      "Epoch 8/20\n",
      "36/36 [==============================] - 0s 6ms/step - loss: 0.7164 - accuracy: 0.7824 - val_loss: 0.7096 - val_accuracy: 0.7951\n",
      "Epoch 9/20\n",
      "36/36 [==============================] - 0s 6ms/step - loss: 0.6508 - accuracy: 0.8059 - val_loss: 0.6587 - val_accuracy: 0.8056\n",
      "Epoch 10/20\n",
      "36/36 [==============================] - 0s 5ms/step - loss: 0.6005 - accuracy: 0.8216 - val_loss: 0.6104 - val_accuracy: 0.8160\n",
      "Epoch 11/20\n",
      "36/36 [==============================] - 0s 7ms/step - loss: 0.5535 - accuracy: 0.8407 - val_loss: 0.5789 - val_accuracy: 0.8125\n",
      "Epoch 12/20\n",
      "36/36 [==============================] - 0s 5ms/step - loss: 0.5151 - accuracy: 0.8503 - val_loss: 0.5448 - val_accuracy: 0.8299\n",
      "Epoch 13/20\n",
      "36/36 [==============================] - 0s 5ms/step - loss: 0.4834 - accuracy: 0.8590 - val_loss: 0.5158 - val_accuracy: 0.8368\n",
      "Epoch 14/20\n",
      "36/36 [==============================] - 0s 6ms/step - loss: 0.4515 - accuracy: 0.8712 - val_loss: 0.5059 - val_accuracy: 0.8299\n",
      "Epoch 15/20\n",
      "36/36 [==============================] - 0s 6ms/step - loss: 0.4280 - accuracy: 0.8825 - val_loss: 0.4774 - val_accuracy: 0.8438\n",
      "Epoch 16/20\n",
      "36/36 [==============================] - 0s 6ms/step - loss: 0.4055 - accuracy: 0.8912 - val_loss: 0.4582 - val_accuracy: 0.8507\n",
      "Epoch 17/20\n",
      "36/36 [==============================] - 0s 6ms/step - loss: 0.3862 - accuracy: 0.8921 - val_loss: 0.4399 - val_accuracy: 0.8542\n",
      "Epoch 18/20\n",
      "36/36 [==============================] - 0s 6ms/step - loss: 0.3667 - accuracy: 0.8964 - val_loss: 0.4325 - val_accuracy: 0.8646\n",
      "Epoch 19/20\n",
      "36/36 [==============================] - 0s 6ms/step - loss: 0.3506 - accuracy: 0.9060 - val_loss: 0.4082 - val_accuracy: 0.8646\n",
      "Epoch 20/20\n",
      "36/36 [==============================] - 0s 6ms/step - loss: 0.3358 - accuracy: 0.9077 - val_loss: 0.3986 - val_accuracy: 0.8681\n",
      "12/12 [==============================] - 0s 3ms/step - loss: 0.3656 - accuracy: 0.8917\n",
      "Loss (SGD LR 0.001):     0.37\n",
      "Accuracy (SGD LR 0.001): 89.17%\n"
     ]
    }
   ],
   "source": [
    "# Decrease by factor of 100\n",
    "# Create a new instance of the model\n",
    "model_sgd_lr_001 = Sequential()\n",
    "model_sgd_lr_001.add(Dense(64, activation='relu', input_shape=(64,)))\n",
    "model_sgd_lr_001.add(Dense(64, activation='relu'))\n",
    "model_sgd_lr_001.add(Dense(10, activation='softmax'))\n",
    "\n",
    "# Compile the model with SGD optimizer and a decreased learning rate (factor of 100)\n",
    "optimizer_sgd_lr_001 = SGD(learning_rate=0.001) # Default is 0.1\n",
    "model_sgd_lr_001.compile(loss='categorical_crossentropy', optimizer=optimizer_sgd_lr_001, metrics=['accuracy'])\n",
    "\n",
    "# Train the model\n",
    "history_sgd_lr_001 = model_sgd_lr_001.fit(X_train, y_train, epochs=20, validation_split=0.2, verbose=1)\n",
    "\n",
    "# Evaluate the model\n",
    "loss_sgd_lr_001, accuracy_sgd_lr_001 = model_sgd_lr_001.evaluate(X_test, y_test)\n",
    "print(f'Loss (SGD LR 0.001):     {loss_sgd_lr_001:.2f}')\n",
    "print(f'Accuracy (SGD LR 0.001): {accuracy_sgd_lr_001*100:.2f}%')\n"
   ]
  },
  {
   "cell_type": "code",
   "execution_count": 19,
   "metadata": {},
   "outputs": [
    {
     "name": "stdout",
     "output_type": "stream",
     "text": [
      "Epoch 1/20\n",
      "36/36 [==============================] - 1s 11ms/step - loss: 4484.7764 - accuracy: 0.0931 - val_loss: 2.3159 - val_accuracy: 0.0833\n",
      "Epoch 2/20\n",
      "36/36 [==============================] - 0s 5ms/step - loss: 2.3129 - accuracy: 0.1010 - val_loss: 2.3175 - val_accuracy: 0.0833\n",
      "Epoch 3/20\n",
      "36/36 [==============================] - 0s 6ms/step - loss: 2.3116 - accuracy: 0.0966 - val_loss: 2.2999 - val_accuracy: 0.1076\n",
      "Epoch 4/20\n",
      "36/36 [==============================] - 0s 6ms/step - loss: 2.3100 - accuracy: 0.0862 - val_loss: 2.3030 - val_accuracy: 0.1007\n",
      "Epoch 5/20\n",
      "36/36 [==============================] - 0s 6ms/step - loss: 2.3097 - accuracy: 0.0905 - val_loss: 2.3015 - val_accuracy: 0.1215\n",
      "Epoch 6/20\n",
      "36/36 [==============================] - 0s 7ms/step - loss: 2.3102 - accuracy: 0.0879 - val_loss: 2.3051 - val_accuracy: 0.1007\n",
      "Epoch 7/20\n",
      "36/36 [==============================] - 0s 6ms/step - loss: 2.3102 - accuracy: 0.1001 - val_loss: 2.3180 - val_accuracy: 0.0833\n",
      "Epoch 8/20\n",
      "36/36 [==============================] - 0s 7ms/step - loss: 2.3118 - accuracy: 0.1018 - val_loss: 2.3109 - val_accuracy: 0.1076\n",
      "Epoch 9/20\n",
      "36/36 [==============================] - 0s 7ms/step - loss: 2.3123 - accuracy: 0.0975 - val_loss: 2.3124 - val_accuracy: 0.1076\n",
      "Epoch 10/20\n",
      "36/36 [==============================] - 0s 6ms/step - loss: 2.3118 - accuracy: 0.0923 - val_loss: 2.3097 - val_accuracy: 0.1076\n",
      "Epoch 11/20\n",
      "36/36 [==============================] - 0s 6ms/step - loss: 2.3107 - accuracy: 0.0949 - val_loss: 2.3094 - val_accuracy: 0.0833\n",
      "Epoch 12/20\n",
      "36/36 [==============================] - 0s 5ms/step - loss: 2.3123 - accuracy: 0.1001 - val_loss: 2.3108 - val_accuracy: 0.1042\n",
      "Epoch 13/20\n",
      "36/36 [==============================] - 0s 5ms/step - loss: 2.3108 - accuracy: 0.0905 - val_loss: 2.3108 - val_accuracy: 0.1076\n",
      "Epoch 14/20\n",
      "36/36 [==============================] - 0s 6ms/step - loss: 2.3124 - accuracy: 0.0896 - val_loss: 2.3116 - val_accuracy: 0.0833\n",
      "Epoch 15/20\n",
      "36/36 [==============================] - 0s 5ms/step - loss: 2.3106 - accuracy: 0.0853 - val_loss: 2.3199 - val_accuracy: 0.0868\n",
      "Epoch 16/20\n",
      "36/36 [==============================] - 0s 6ms/step - loss: 2.3116 - accuracy: 0.0975 - val_loss: 2.3181 - val_accuracy: 0.0833\n",
      "Epoch 17/20\n",
      "36/36 [==============================] - 0s 6ms/step - loss: 2.3107 - accuracy: 0.1018 - val_loss: 2.3252 - val_accuracy: 0.0833\n",
      "Epoch 18/20\n",
      "36/36 [==============================] - 0s 6ms/step - loss: 2.3110 - accuracy: 0.0949 - val_loss: 2.3144 - val_accuracy: 0.0868\n",
      "Epoch 19/20\n",
      "36/36 [==============================] - 0s 6ms/step - loss: 2.3118 - accuracy: 0.1027 - val_loss: 2.3138 - val_accuracy: 0.1076\n",
      "Epoch 20/20\n",
      "36/36 [==============================] - 0s 6ms/step - loss: 2.3120 - accuracy: 0.0957 - val_loss: 2.3143 - val_accuracy: 0.0833\n",
      "12/12 [==============================] - 0s 4ms/step - loss: 2.3101 - accuracy: 0.0944\n",
      "Loss (SGD LR 1.0):     2.31\n",
      "Accuracy (SGD LR 1.0): 9.44%\n"
     ]
    }
   ],
   "source": [
    "# Increasing the learning rate of the SGD Optimizer\n",
    "# Create a new instance of the model\n",
    "model_sgd_lr_1 = Sequential()\n",
    "model_sgd_lr_1.add(Dense(64, activation='relu', input_shape=(64,)))\n",
    "model_sgd_lr_1.add(Dense(64, activation='relu'))\n",
    "model_sgd_lr_1.add(Dense(10, activation='softmax'))\n",
    "\n",
    "# Compile the model with SGD optimizer and an increased learning rate\n",
    "optimizer_sgd_lr_1 = SGD(learning_rate=1.0) # Default is 0.1\n",
    "model_sgd_lr_1.compile(loss='categorical_crossentropy', optimizer=optimizer_sgd_lr_1, metrics=['accuracy'])\n",
    "\n",
    "# Train the model\n",
    "history_sgd_lr_1 = model_sgd_lr_1.fit(X_train, y_train, epochs=20, validation_split=0.2, verbose=1)\n",
    "\n",
    "# Evaluate the model\n",
    "loss_sgd_lr_1, accuracy_sgd_lr_1 = model_sgd_lr_1.evaluate(X_test, y_test)\n",
    "print(f'Loss (SGD LR 1.0):     {loss_sgd_lr_1:.2f}')\n",
    "print(f'Accuracy (SGD LR 1.0): {accuracy_sgd_lr_1*100:.2f}%')\n"
   ]
  },
  {
   "cell_type": "code",
   "execution_count": 20,
   "metadata": {},
   "outputs": [
    {
     "name": "stdout",
     "output_type": "stream",
     "text": [
      "Epoch 1/20\n",
      "36/36 [==============================] - 1s 10ms/step - loss: 5.3817 - accuracy: 0.1445 - val_loss: 2.1877 - val_accuracy: 0.1354\n",
      "Epoch 2/20\n",
      "36/36 [==============================] - 0s 5ms/step - loss: 2.2611 - accuracy: 0.1358 - val_loss: 2.2123 - val_accuracy: 0.1493\n",
      "Epoch 3/20\n",
      "36/36 [==============================] - 0s 6ms/step - loss: 2.1475 - accuracy: 0.1619 - val_loss: 2.1138 - val_accuracy: 0.1597\n",
      "Epoch 4/20\n",
      "36/36 [==============================] - 0s 6ms/step - loss: 2.1706 - accuracy: 0.1549 - val_loss: 2.0929 - val_accuracy: 0.1632\n",
      "Epoch 5/20\n",
      "36/36 [==============================] - 0s 5ms/step - loss: 2.3251 - accuracy: 0.1184 - val_loss: 2.3109 - val_accuracy: 0.0938\n",
      "Epoch 6/20\n",
      "36/36 [==============================] - 0s 6ms/step - loss: 2.3088 - accuracy: 0.0940 - val_loss: 2.3157 - val_accuracy: 0.0833\n",
      "Epoch 7/20\n",
      "36/36 [==============================] - 0s 5ms/step - loss: 2.3065 - accuracy: 0.1001 - val_loss: 2.3106 - val_accuracy: 0.1076\n",
      "Epoch 8/20\n",
      "36/36 [==============================] - 0s 5ms/step - loss: 2.3066 - accuracy: 0.0983 - val_loss: 2.3112 - val_accuracy: 0.1007\n",
      "Epoch 9/20\n",
      "36/36 [==============================] - 0s 4ms/step - loss: 2.3106 - accuracy: 0.0870 - val_loss: 2.3102 - val_accuracy: 0.1076\n",
      "Epoch 10/20\n",
      "36/36 [==============================] - 0s 5ms/step - loss: 2.3157 - accuracy: 0.0896 - val_loss: 2.3086 - val_accuracy: 0.1076\n",
      "Epoch 11/20\n",
      "36/36 [==============================] - 0s 6ms/step - loss: 2.3128 - accuracy: 0.0853 - val_loss: 2.3140 - val_accuracy: 0.0833\n",
      "Epoch 12/20\n",
      "36/36 [==============================] - 0s 6ms/step - loss: 2.3113 - accuracy: 0.0818 - val_loss: 2.3212 - val_accuracy: 0.0833\n",
      "Epoch 13/20\n",
      "36/36 [==============================] - 0s 5ms/step - loss: 2.3128 - accuracy: 0.0905 - val_loss: 2.3151 - val_accuracy: 0.1076\n",
      "Epoch 14/20\n",
      "36/36 [==============================] - 0s 5ms/step - loss: 2.3098 - accuracy: 0.1010 - val_loss: 2.3155 - val_accuracy: 0.0833\n",
      "Epoch 15/20\n",
      "36/36 [==============================] - 0s 6ms/step - loss: 2.3085 - accuracy: 0.0923 - val_loss: 2.3127 - val_accuracy: 0.1076\n",
      "Epoch 16/20\n",
      "36/36 [==============================] - 0s 6ms/step - loss: 2.3115 - accuracy: 0.0975 - val_loss: 2.3119 - val_accuracy: 0.0833\n",
      "Epoch 17/20\n",
      "36/36 [==============================] - 0s 5ms/step - loss: 2.3114 - accuracy: 0.1001 - val_loss: 2.3105 - val_accuracy: 0.0868\n",
      "Epoch 18/20\n",
      "36/36 [==============================] - 0s 6ms/step - loss: 2.3100 - accuracy: 0.0923 - val_loss: 2.3112 - val_accuracy: 0.0868\n",
      "Epoch 19/20\n",
      "36/36 [==============================] - 0s 6ms/step - loss: 2.3093 - accuracy: 0.0931 - val_loss: 2.3096 - val_accuracy: 0.1076\n",
      "Epoch 20/20\n",
      "36/36 [==============================] - 0s 6ms/step - loss: 2.3103 - accuracy: 0.0923 - val_loss: 2.3065 - val_accuracy: 0.1042\n",
      "12/12 [==============================] - 0s 3ms/step - loss: 2.3205 - accuracy: 0.0944\n",
      "Loss (SGD Momentum 0.9):     2.32\n",
      "Accuracy (SGD Momentum 0.9): 9.44%\n"
     ]
    }
   ],
   "source": [
    "# Enable Momentum in the SGD Optimizer\n",
    "# Create a new instance of the model\n",
    "model_sgd_momentum = Sequential()\n",
    "model_sgd_momentum.add(Dense(64, activation='relu', input_shape=(64,)))\n",
    "model_sgd_momentum.add(Dense(64, activation='relu'))\n",
    "model_sgd_momentum.add(Dense(10, activation='softmax'))\n",
    "\n",
    "# Compile the model with SGD optimizer with momentum\n",
    "optimizer_sgd_momentum = SGD(learning_rate=0.1, momentum=0.9)\n",
    "model_sgd_momentum.compile(loss='categorical_crossentropy', optimizer=optimizer_sgd_momentum, metrics=['accuracy'])\n",
    "\n",
    "# Train the model\n",
    "history_sgd_momentum = model_sgd_momentum.fit(X_train, y_train, epochs=20, validation_split=0.2, verbose=1)\n",
    "\n",
    "# Evaluate the model\n",
    "loss_sgd_momentum, accuracy_sgd_momentum = model_sgd_momentum.evaluate(X_test, y_test)\n",
    "print(f'Loss (SGD Momentum 0.9):     {loss_sgd_momentum:.2f}')\n",
    "print(f'Accuracy (SGD Momentum 0.9): {accuracy_sgd_momentum*100:.2f}%')\n"
   ]
  },
  {
   "cell_type": "code",
   "execution_count": 21,
   "metadata": {},
   "outputs": [],
   "source": [
    "# Decrease by factor of 10 – the results are as follows\n",
    "#   Loss (SGD LR 0.01):     0.11\n",
    "#   Accuracy (SGD LR 0.01): 96.11%\n",
    "# Decrease by factor of 100 – the results are as follows\n",
    "#   Loss (SGD LR 0.001):     0.37\n",
    "#   Accuracy (SGD LR 0.001): 89.17%\n",
    "# Increasing the learning rate of the SGD Optimizer – the results are as follows\n",
    "#   Loss (SGD LR 1.0):     2.31\n",
    "#   Accuracy (SGD LR 1.0): 9.44%\n",
    "# Enable Momentum in the SGD Optimizer – the results are as follows\n",
    "#   Loss (SGD Momentum 0.9):     2.32\n",
    "#   Accuracy (SGD Momentum 0.9): 9.44%\n",
    "\n",
    "\n",
    "# Conclusion\n",
    "# Optimal Learning Rate: Among the tested learning rates, 0.01 provided the best performance, indicating it is more \n",
    "# suitable for this dataset and model architecture.High Learning Rate and Momentum: Both higher learning rate and high \n",
    "# momentum with default learning rate caused poor performance, suggesting instability in training."
   ]
  },
  {
   "cell_type": "markdown",
   "metadata": {},
   "source": [
    "Next, let's try a more advanced optimizer. Adam is likely the most popular optimizer for deep learning. It is an adaptive learning rate optimizer, which means that it automatically adjusts the learning rate based on how the training is going. This can be very useful, as it means that we don't need to manually tune the learning rate. Let's see how it performs on our model.\n",
    "\n",
    "\n",
    "1. Replace the SGD optimizer by the Adam optimizer from keras and run it\n",
    "  with the default parameters.\n",
    "\n",
    "The results are:\n",
    "Loss (Adam):     0.10\n",
    "Accuracy (Adam): 96.39%\n",
    "\n",
    "2. Add another hidden layer with ReLU activation and 64 neurons. Does it improve the model performance?\n",
    "\n",
    "The results are:\n",
    "Loss (Adam with Extra Layer):     0.11\n",
    "Accuracy (Adam with Extra Layer): 97.22%\n",
    "\n",
    "Yes the performance imporves slightly  \n",
    "\n"
   ]
  },
  {
   "cell_type": "code",
   "execution_count": 22,
   "metadata": {},
   "outputs": [
    {
     "name": "stdout",
     "output_type": "stream",
     "text": [
      "Epoch 1/20\n",
      "36/36 [==============================] - 1s 14ms/step - loss: 2.4636 - accuracy: 0.3795 - val_loss: 1.0283 - val_accuracy: 0.6701\n",
      "Epoch 2/20\n",
      "36/36 [==============================] - 0s 7ms/step - loss: 0.6183 - accuracy: 0.8181 - val_loss: 0.5193 - val_accuracy: 0.8438\n",
      "Epoch 3/20\n",
      "36/36 [==============================] - 0s 9ms/step - loss: 0.3183 - accuracy: 0.8964 - val_loss: 0.3695 - val_accuracy: 0.8854\n",
      "Epoch 4/20\n",
      "36/36 [==============================] - 0s 8ms/step - loss: 0.2010 - accuracy: 0.9452 - val_loss: 0.2998 - val_accuracy: 0.9097\n",
      "Epoch 5/20\n",
      "36/36 [==============================] - 0s 7ms/step - loss: 0.1445 - accuracy: 0.9626 - val_loss: 0.2659 - val_accuracy: 0.9167\n",
      "Epoch 6/20\n",
      "36/36 [==============================] - 0s 6ms/step - loss: 0.1054 - accuracy: 0.9756 - val_loss: 0.2486 - val_accuracy: 0.9201\n",
      "Epoch 7/20\n",
      "36/36 [==============================] - 0s 6ms/step - loss: 0.0771 - accuracy: 0.9817 - val_loss: 0.2166 - val_accuracy: 0.9167\n",
      "Epoch 8/20\n",
      "36/36 [==============================] - 0s 6ms/step - loss: 0.0586 - accuracy: 0.9878 - val_loss: 0.2192 - val_accuracy: 0.9236\n",
      "Epoch 9/20\n",
      "36/36 [==============================] - 0s 6ms/step - loss: 0.0461 - accuracy: 0.9939 - val_loss: 0.2181 - val_accuracy: 0.9201\n",
      "Epoch 10/20\n",
      "36/36 [==============================] - 0s 6ms/step - loss: 0.0441 - accuracy: 0.9904 - val_loss: 0.1913 - val_accuracy: 0.9340\n",
      "Epoch 11/20\n",
      "36/36 [==============================] - 0s 6ms/step - loss: 0.0319 - accuracy: 0.9948 - val_loss: 0.1905 - val_accuracy: 0.9306\n",
      "Epoch 12/20\n",
      "36/36 [==============================] - 0s 6ms/step - loss: 0.0267 - accuracy: 0.9948 - val_loss: 0.1898 - val_accuracy: 0.9271\n",
      "Epoch 13/20\n",
      "36/36 [==============================] - 0s 6ms/step - loss: 0.0218 - accuracy: 0.9974 - val_loss: 0.1755 - val_accuracy: 0.9375\n",
      "Epoch 14/20\n",
      "36/36 [==============================] - 0s 7ms/step - loss: 0.0183 - accuracy: 0.9983 - val_loss: 0.1712 - val_accuracy: 0.9410\n",
      "Epoch 15/20\n",
      "36/36 [==============================] - 0s 7ms/step - loss: 0.0148 - accuracy: 0.9974 - val_loss: 0.1705 - val_accuracy: 0.9444\n",
      "Epoch 16/20\n",
      "36/36 [==============================] - 0s 6ms/step - loss: 0.0150 - accuracy: 0.9991 - val_loss: 0.1723 - val_accuracy: 0.9479\n",
      "Epoch 17/20\n",
      "36/36 [==============================] - 0s 6ms/step - loss: 0.0115 - accuracy: 0.9991 - val_loss: 0.1668 - val_accuracy: 0.9410\n",
      "Epoch 18/20\n",
      "36/36 [==============================] - 0s 6ms/step - loss: 0.0097 - accuracy: 0.9991 - val_loss: 0.1692 - val_accuracy: 0.9444\n",
      "Epoch 19/20\n",
      "36/36 [==============================] - 0s 5ms/step - loss: 0.0083 - accuracy: 1.0000 - val_loss: 0.1677 - val_accuracy: 0.9444\n",
      "Epoch 20/20\n",
      "36/36 [==============================] - 0s 6ms/step - loss: 0.0076 - accuracy: 0.9991 - val_loss: 0.1669 - val_accuracy: 0.9514\n",
      "12/12 [==============================] - 0s 4ms/step - loss: 0.1004 - accuracy: 0.9639\n",
      "Loss (Adam):     0.10\n",
      "Accuracy (Adam): 96.39%\n"
     ]
    }
   ],
   "source": [
    "# Your code here\n",
    "from tensorflow.keras.optimizers import Adam\n",
    "\n",
    "# Create a new instance of the model\n",
    "model_adam = Sequential()\n",
    "model_adam.add(Dense(64, activation='relu', input_shape=(64,)))\n",
    "model_adam.add(Dense(64, activation='relu'))\n",
    "model_adam.add(Dense(10, activation='softmax'))\n",
    "\n",
    "# Compile the model with Adam optimizer\n",
    "optimizer_adam = Adam() # Default parameters\n",
    "model_adam.compile(loss='categorical_crossentropy', optimizer=optimizer_adam, metrics=['accuracy'])\n",
    "\n",
    "# Train the model\n",
    "history_adam = model_adam.fit(X_train, y_train, epochs=20, validation_split=0.2, verbose=1)\n",
    "\n",
    "# Evaluate the model\n",
    "loss_adam, accuracy_adam = model_adam.evaluate(X_test, y_test)\n",
    "print(f'Loss (Adam):     {loss_adam:.2f}')\n",
    "print(f'Accuracy (Adam): {accuracy_adam*100:.2f}%')\n"
   ]
  },
  {
   "cell_type": "code",
   "execution_count": 23,
   "metadata": {},
   "outputs": [
    {
     "name": "stdout",
     "output_type": "stream",
     "text": [
      "Epoch 1/20\n",
      "36/36 [==============================] - 1s 11ms/step - loss: 1.2339 - accuracy: 0.6379 - val_loss: 0.4271 - val_accuracy: 0.8576\n",
      "Epoch 2/20\n",
      "36/36 [==============================] - 0s 8ms/step - loss: 0.2081 - accuracy: 0.9399 - val_loss: 0.3276 - val_accuracy: 0.8924\n",
      "Epoch 3/20\n",
      "36/36 [==============================] - 0s 7ms/step - loss: 0.1081 - accuracy: 0.9669 - val_loss: 0.2475 - val_accuracy: 0.9236\n",
      "Epoch 4/20\n",
      "36/36 [==============================] - 0s 7ms/step - loss: 0.0702 - accuracy: 0.9800 - val_loss: 0.2146 - val_accuracy: 0.9236\n",
      "Epoch 5/20\n",
      "36/36 [==============================] - 0s 7ms/step - loss: 0.0417 - accuracy: 0.9904 - val_loss: 0.1961 - val_accuracy: 0.9306\n",
      "Epoch 6/20\n",
      "36/36 [==============================] - 0s 7ms/step - loss: 0.0248 - accuracy: 0.9965 - val_loss: 0.1972 - val_accuracy: 0.9410\n",
      "Epoch 7/20\n",
      "36/36 [==============================] - 0s 7ms/step - loss: 0.0190 - accuracy: 0.9948 - val_loss: 0.1745 - val_accuracy: 0.9410\n",
      "Epoch 8/20\n",
      "36/36 [==============================] - 0s 7ms/step - loss: 0.0132 - accuracy: 0.9991 - val_loss: 0.1625 - val_accuracy: 0.9444\n",
      "Epoch 9/20\n",
      "36/36 [==============================] - 0s 7ms/step - loss: 0.0087 - accuracy: 0.9991 - val_loss: 0.1650 - val_accuracy: 0.9410\n",
      "Epoch 10/20\n",
      "36/36 [==============================] - 0s 7ms/step - loss: 0.0072 - accuracy: 1.0000 - val_loss: 0.1566 - val_accuracy: 0.9444\n",
      "Epoch 11/20\n",
      "36/36 [==============================] - 0s 8ms/step - loss: 0.0054 - accuracy: 1.0000 - val_loss: 0.1520 - val_accuracy: 0.9514\n",
      "Epoch 12/20\n",
      "36/36 [==============================] - 0s 7ms/step - loss: 0.0044 - accuracy: 1.0000 - val_loss: 0.1499 - val_accuracy: 0.9549\n",
      "Epoch 13/20\n",
      "36/36 [==============================] - 0s 7ms/step - loss: 0.0040 - accuracy: 1.0000 - val_loss: 0.1514 - val_accuracy: 0.9514\n",
      "Epoch 14/20\n",
      "36/36 [==============================] - 0s 8ms/step - loss: 0.0032 - accuracy: 1.0000 - val_loss: 0.1482 - val_accuracy: 0.9444\n",
      "Epoch 15/20\n",
      "36/36 [==============================] - 0s 7ms/step - loss: 0.0027 - accuracy: 1.0000 - val_loss: 0.1486 - val_accuracy: 0.9444\n",
      "Epoch 16/20\n",
      "36/36 [==============================] - 0s 7ms/step - loss: 0.0024 - accuracy: 1.0000 - val_loss: 0.1447 - val_accuracy: 0.9444\n",
      "Epoch 17/20\n",
      "36/36 [==============================] - 0s 8ms/step - loss: 0.0021 - accuracy: 1.0000 - val_loss: 0.1475 - val_accuracy: 0.9444\n",
      "Epoch 18/20\n",
      "36/36 [==============================] - 0s 8ms/step - loss: 0.0019 - accuracy: 1.0000 - val_loss: 0.1457 - val_accuracy: 0.9444\n",
      "Epoch 19/20\n",
      "36/36 [==============================] - 0s 7ms/step - loss: 0.0018 - accuracy: 1.0000 - val_loss: 0.1494 - val_accuracy: 0.9444\n",
      "Epoch 20/20\n",
      "36/36 [==============================] - 0s 6ms/step - loss: 0.0015 - accuracy: 1.0000 - val_loss: 0.1465 - val_accuracy: 0.9479\n",
      "12/12 [==============================] - 0s 4ms/step - loss: 0.1124 - accuracy: 0.9722\n",
      "Loss (Adam with Extra Layer):     0.11\n",
      "Accuracy (Adam with Extra Layer): 97.22%\n"
     ]
    }
   ],
   "source": [
    "# Create a new instance of the model with an additional hidden layer\n",
    "model_adam_extra_layer = Sequential()\n",
    "model_adam_extra_layer.add(Dense(64, activation='relu', input_shape=(64,)))\n",
    "model_adam_extra_layer.add(Dense(64, activation='relu'))\n",
    "model_adam_extra_layer.add(Dense(64, activation='relu')) # Additional hidden layer\n",
    "model_adam_extra_layer.add(Dense(10, activation='softmax'))\n",
    "\n",
    "# Compile the model with Adam optimizer\n",
    "model_adam_extra_layer.compile(loss='categorical_crossentropy', optimizer=optimizer_adam, metrics=['accuracy'])\n",
    "\n",
    "# Train the model\n",
    "history_adam_extra_layer = model_adam_extra_layer.fit(X_train, y_train, epochs=20, validation_split=0.2, verbose=1)\n",
    "\n",
    "# Evaluate the model\n",
    "loss_adam_extra_layer, accuracy_adam_extra_layer = model_adam_extra_layer.evaluate(X_test, y_test)\n",
    "print(f'Loss (Adam with Extra Layer):     {loss_adam_extra_layer:.2f}')\n",
    "print(f'Accuracy (Adam with Extra Layer): {accuracy_adam_extra_layer*100:.2f}%')\n"
   ]
  },
  {
   "cell_type": "markdown",
   "metadata": {},
   "source": [
    "### Exercises: Forward Pass and Generalization\n",
    "\n",
    "Let's look in more detail at how the model makes predictions on the test set. We will walk through each step of making predictions, examining exactly what's going on.\n",
    "\n",
    "To start, we will apply our model to the test set, and look at what we get as output:"
   ]
  },
  {
   "cell_type": "code",
   "execution_count": 24,
   "metadata": {},
   "outputs": [
    {
     "data": {
      "text/plain": [
       "<tf.Tensor: shape=(5, 10), dtype=float32, numpy=\n",
       "array([[3.5954130e-05, 4.3461202e-07, 1.3998635e-07, 4.0355981e-09,\n",
       "        2.2524714e-06, 8.0275356e-07, 9.9974275e-01, 1.0059485e-06,\n",
       "        2.1660382e-04, 9.5463854e-08],\n",
       "       [2.6340556e-04, 2.3933720e-07, 4.0164167e-07, 1.2249356e-05,\n",
       "        3.3399051e-06, 5.5748022e-01, 8.5922849e-08, 7.7127959e-07,\n",
       "        1.7685663e-05, 4.4222155e-01],\n",
       "       [2.8467434e-10, 8.1255846e-09, 3.5909079e-06, 9.9993521e-01,\n",
       "        5.6011701e-10, 4.8109709e-06, 3.4567751e-10, 1.5681831e-06,\n",
       "        6.6784032e-06, 4.8178557e-05],\n",
       "       [2.3432364e-04, 2.9469760e-05, 2.9201801e-05, 1.9149466e-04,\n",
       "        3.1599333e-04, 5.6106397e-03, 6.2125465e-09, 9.9147558e-01,\n",
       "        2.8565441e-05, 2.0847686e-03],\n",
       "       [2.6256002e-05, 3.1430972e-07, 9.9571484e-01, 3.9084153e-03,\n",
       "        3.3128061e-10, 1.7633424e-04, 1.3838078e-05, 2.2723443e-06,\n",
       "        1.5575161e-04, 1.8594027e-06]], dtype=float32)>"
      ]
     },
     "execution_count": 24,
     "metadata": {},
     "output_type": "execute_result"
    }
   ],
   "source": [
    "predictions_tf = model(X_test)\n",
    "predictions_tf[:5]"
   ]
  },
  {
   "cell_type": "code",
   "execution_count": 25,
   "metadata": {},
   "outputs": [
    {
     "data": {
      "text/plain": [
       "(tensorflow.python.framework.ops.EagerTensor, TensorShape([360, 10]))"
      ]
     },
     "execution_count": 25,
     "metadata": {},
     "output_type": "execute_result"
    }
   ],
   "source": [
    "type(predictions_tf), predictions_tf.shape"
   ]
  },
  {
   "cell_type": "markdown",
   "metadata": {},
   "source": [
    "The raw output of the model is a tensor of shape `(360, 10)`. This means that we have 360 samples, and for each sample we have 10 values. Each of these values represents the probability that the sample belongs to a given class. This means that we have 10 probabilities for each sample, and the sum of these probabilities is 1. We can confirm this by summing the probabilities for each sample:"
   ]
  },
  {
   "cell_type": "code",
   "execution_count": 26,
   "metadata": {},
   "outputs": [
    {
     "data": {
      "text/plain": [
       "<tf.Tensor: shape=(5,), dtype=float32, numpy=\n",
       "array([1.       , 0.9999999, 1.       , 1.       , 0.9999999],\n",
       "      dtype=float32)>"
      ]
     },
     "execution_count": 26,
     "metadata": {},
     "output_type": "execute_result"
    }
   ],
   "source": [
    "import tensorflow as tf\n",
    "\n",
    "tf.reduce_sum(predictions_tf, axis=1)[:5]"
   ]
  },
  {
   "cell_type": "markdown",
   "metadata": {
    "collapsed": false
   },
   "source": [
    "...okay, there might be a small rounding error here and there. This is to do with how floating point numbers are represented in computers, and it's not something we need to worry about for now."
   ]
  },
  {
   "cell_type": "markdown",
   "metadata": {},
   "source": [
    "We can also extract the label with the highest probability using the tensorflow API:"
   ]
  },
  {
   "cell_type": "code",
   "execution_count": 27,
   "metadata": {},
   "outputs": [
    {
     "data": {
      "text/plain": [
       "<tf.Tensor: shape=(5,), dtype=int64, numpy=array([6, 5, 3, 7, 2], dtype=int64)>"
      ]
     },
     "execution_count": 27,
     "metadata": {},
     "output_type": "execute_result"
    }
   ],
   "source": [
    "predicted_labels_tf = tf.argmax(predictions_tf, axis=1)\n",
    "predicted_labels_tf[:5]"
   ]
  },
  {
   "cell_type": "markdown",
   "metadata": {
    "collapsed": false
   },
   "source": [
    "One helpful aspect of this approach is that we don't just get the prediction, but also a sense of how confident the model is in its prediction. To see this in practice, let's take a look at some of the predictions the model is highly confident about (i.e. a lot of the probability mass is on one class):"
   ]
  },
  {
   "cell_type": "code",
   "execution_count": 28,
   "metadata": {
    "collapsed": false
   },
   "outputs": [
    {
     "data": {
      "image/png": "[encoded data removed]",
      "text/plain": [
       "<Figure size 600x600 with 9 Axes>"
      ]
     },
     "metadata": {},
     "output_type": "display_data"
    }
   ],
   "source": [
    "# Get the values corresponding to the predicted labels for each sample\n",
    "predicted_values_tf = tf.reduce_max(predictions_tf, axis=1)\n",
    "\n",
    "# Get the indices of the samples with the highest predicted values\n",
    "most_confident_indices_tf = tf.argsort(predicted_values_tf, direction='DESCENDING').numpy()[:9]\n",
    "\n",
    "# Get the 9 most confident samples\n",
    "most_confident_samples_tf = X_test[most_confident_indices_tf]\n",
    "\n",
    "# Get the true labels for the 9 most confident samples\n",
    "most_confident_labels_tf = np.argmax(y_test[most_confident_indices_tf], axis=1)\n",
    "\n",
    "# Plot the 9 most confident samples\n",
    "fig, axes = plt.subplots(3, 3, figsize=(6, 6))\n",
    "\n",
    "for i, ax in enumerate(axes.flat):\n",
    "    ax.imshow(most_confident_samples_tf[i].reshape(8, 8), cmap=plt.cm.gray_r, interpolation='nearest')\n",
    "    ax.set_title(f\"{most_confident_labels_tf[i]}\")\n",
    "\n",
    "    # Removing axis labels\n",
    "    ax.set_xticks([])\n",
    "    ax.set_yticks([])\n",
    "    \n",
    "plt.show()"
   ]
  },
  {
   "cell_type": "markdown",
   "metadata": {},
   "source": [
    "## Impact of Initialization\n",
    "\n",
    "Let's study the impact of a bad initialization when training\n",
    "a deep feed forward network.\n",
    "\n",
    "By default, Keras dense layers use the \"Glorot Uniform\" initialization\n",
    "strategy to initialize the weight matrices:\n",
    "\n",
    "- each weight coefficient is randomly sampled from [-scale, scale]\n",
    "- scale is proportional to $\\frac{1}{\\sqrt{n_{in} + n_{out}}}$\n",
    "\n",
    "This strategy is known to work well to initialize deep neural networks\n",
    "with \"tanh\" or \"relu\" activation functions and then trained with\n",
    "standard SGD.\n",
    "\n",
    "To assess the impact of initialization let us plug an alternative init\n",
    "scheme into a 2 hidden layers networks with \"tanh\" activations.\n",
    "For the sake of the example let's use normal distributed weights\n",
    "with a manually adjustable scale (standard deviation) and see the\n",
    "impact the scale value:"
   ]
  },
  {
   "cell_type": "code",
   "execution_count": 29,
   "metadata": {},
   "outputs": [],
   "source": [
    "from tensorflow.keras import initializers\n",
    "from tensorflow.keras import optimizers\n",
    "\n",
    "input_dim = 64\n",
    "hidden_dim = 64\n",
    "output_dim = 10\n",
    "\n",
    "normal_init = initializers.TruncatedNormal(stddev=0.01, seed=42)\n",
    "\n",
    "model = Sequential()\n",
    "model.add(Dense(hidden_dim, input_dim=input_dim, activation=\"tanh\",\n",
    "                kernel_initializer=normal_init))\n",
    "model.add(Dense(hidden_dim, activation=\"tanh\",\n",
    "                kernel_initializer=normal_init))\n",
    "model.add(Dense(output_dim, activation=\"softmax\",\n",
    "                kernel_initializer=normal_init))\n",
    "\n",
    "model.compile(optimizer=optimizers.SGD(learning_rate=0.1),\n",
    "              loss='categorical_crossentropy', metrics=['accuracy'])"
   ]
  },
  {
   "cell_type": "code",
   "execution_count": 30,
   "metadata": {},
   "outputs": [
    {
     "data": {
      "text/plain": [
       "[<keras.layers.core.dense.Dense at 0x1c17354f760>,\n",
       " <keras.layers.core.dense.Dense at 0x1c1722cc5b0>,\n",
       " <keras.layers.core.dense.Dense at 0x1c172362fd0>]"
      ]
     },
     "execution_count": 30,
     "metadata": {},
     "output_type": "execute_result"
    }
   ],
   "source": [
    "model.layers"
   ]
  },
  {
   "cell_type": "markdown",
   "metadata": {},
   "source": [
    "Let's have a look at the parameters of the first layer after initialization but before any training has happened:"
   ]
  },
  {
   "cell_type": "code",
   "execution_count": 31,
   "metadata": {},
   "outputs": [
    {
     "data": {
      "text/plain": [
       "[<tf.Variable 'dense_22/kernel:0' shape=(64, 64) dtype=float32, numpy=\n",
       " array([[ 0.00015817, -0.01590087,  0.00103594, ...,  0.00962818,\n",
       "          0.00624957,  0.00994726],\n",
       "        [ 0.0081879 ,  0.00756818, -0.00668142, ...,  0.01084459,\n",
       "         -0.00317478, -0.00549116],\n",
       "        [-0.00086618, -0.00287623,  0.00391693, ...,  0.00064558,\n",
       "         -0.00420471,  0.00174566],\n",
       "        ...,\n",
       "        [-0.0029006 , -0.0091218 ,  0.00804327, ..., -0.01407086,\n",
       "          0.00952832, -0.01348555],\n",
       "        [ 0.00375078,  0.00967842,  0.00098119, ..., -0.00413454,\n",
       "          0.01695471,  0.00025196],\n",
       "        [ 0.00459809,  0.01223094, -0.00213172, ...,  0.01246831,\n",
       "         -0.00714749, -0.00868595]], dtype=float32)>,\n",
       " <tf.Variable 'dense_22/bias:0' shape=(64,) dtype=float32, numpy=\n",
       " array([0., 0., 0., 0., 0., 0., 0., 0., 0., 0., 0., 0., 0., 0., 0., 0., 0.,\n",
       "        0., 0., 0., 0., 0., 0., 0., 0., 0., 0., 0., 0., 0., 0., 0., 0., 0.,\n",
       "        0., 0., 0., 0., 0., 0., 0., 0., 0., 0., 0., 0., 0., 0., 0., 0., 0.,\n",
       "        0., 0., 0., 0., 0., 0., 0., 0., 0., 0., 0., 0., 0.], dtype=float32)>]"
      ]
     },
     "execution_count": 31,
     "metadata": {},
     "output_type": "execute_result"
    }
   ],
   "source": [
    "model.layers[0].weights"
   ]
  },
  {
   "cell_type": "code",
   "execution_count": 32,
   "metadata": {},
   "outputs": [
    {
     "data": {
      "text/plain": [
       "array([[ 0.00015817, -0.01590087,  0.00103594, ...,  0.00962818,\n",
       "         0.00624957,  0.00994726],\n",
       "       [ 0.0081879 ,  0.00756818, -0.00668142, ...,  0.01084459,\n",
       "        -0.00317478, -0.00549116],\n",
       "       [-0.00086618, -0.00287623,  0.00391693, ...,  0.00064558,\n",
       "        -0.00420471,  0.00174566],\n",
       "       ...,\n",
       "       [-0.0029006 , -0.0091218 ,  0.00804327, ..., -0.01407086,\n",
       "         0.00952832, -0.01348555],\n",
       "       [ 0.00375078,  0.00967842,  0.00098119, ..., -0.00413454,\n",
       "         0.01695471,  0.00025196],\n",
       "       [ 0.00459809,  0.01223094, -0.00213172, ...,  0.01246831,\n",
       "        -0.00714749, -0.00868595]], dtype=float32)"
      ]
     },
     "execution_count": 32,
     "metadata": {},
     "output_type": "execute_result"
    }
   ],
   "source": [
    "w = model.layers[0].weights[0].numpy()\n",
    "w"
   ]
  },
  {
   "cell_type": "code",
   "execution_count": 33,
   "metadata": {},
   "outputs": [
    {
     "data": {
      "text/plain": [
       "0.008835949"
      ]
     },
     "execution_count": 33,
     "metadata": {},
     "output_type": "execute_result"
    }
   ],
   "source": [
    "w.std()"
   ]
  },
  {
   "cell_type": "code",
   "execution_count": 34,
   "metadata": {},
   "outputs": [
    {
     "data": {
      "text/plain": [
       "array([0., 0., 0., 0., 0., 0., 0., 0., 0., 0., 0., 0., 0., 0., 0., 0., 0.,\n",
       "       0., 0., 0., 0., 0., 0., 0., 0., 0., 0., 0., 0., 0., 0., 0., 0., 0.,\n",
       "       0., 0., 0., 0., 0., 0., 0., 0., 0., 0., 0., 0., 0., 0., 0., 0., 0.,\n",
       "       0., 0., 0., 0., 0., 0., 0., 0., 0., 0., 0., 0., 0.], dtype=float32)"
      ]
     },
     "execution_count": 34,
     "metadata": {},
     "output_type": "execute_result"
    }
   ],
   "source": [
    "b = model.layers[0].weights[1].numpy()\n",
    "b"
   ]
  },
  {
   "cell_type": "code",
   "execution_count": 35,
   "metadata": {},
   "outputs": [
    {
     "name": "stdout",
     "output_type": "stream",
     "text": [
      "Epoch 1/15\n",
      "45/45 [==============================] - 1s 4ms/step - loss: 2.2864 - accuracy: 0.2401\n",
      "Epoch 2/15\n",
      "45/45 [==============================] - 0s 3ms/step - loss: 1.7304 - accuracy: 0.4857\n",
      "Epoch 3/15\n",
      "45/45 [==============================] - 0s 3ms/step - loss: 0.9795 - accuracy: 0.7189\n",
      "Epoch 4/15\n",
      "45/45 [==============================] - 0s 3ms/step - loss: 0.5196 - accuracy: 0.8727\n",
      "Epoch 5/15\n",
      "45/45 [==============================] - 0s 3ms/step - loss: 0.3214 - accuracy: 0.9262\n",
      "Epoch 6/15\n",
      "45/45 [==============================] - 0s 3ms/step - loss: 0.2614 - accuracy: 0.9228\n",
      "Epoch 7/15\n",
      "45/45 [==============================] - 0s 3ms/step - loss: 0.1470 - accuracy: 0.9736\n",
      "Epoch 8/15\n",
      "45/45 [==============================] - 0s 3ms/step - loss: 0.1319 - accuracy: 0.9701\n",
      "Epoch 9/15\n",
      "45/45 [==============================] - 0s 4ms/step - loss: 0.1058 - accuracy: 0.9749\n",
      "Epoch 10/15\n",
      "45/45 [==============================] - 0s 3ms/step - loss: 0.0737 - accuracy: 0.9854\n",
      "Epoch 11/15\n",
      "45/45 [==============================] - 0s 4ms/step - loss: 0.0879 - accuracy: 0.9777\n",
      "Epoch 12/15\n",
      "45/45 [==============================] - 0s 3ms/step - loss: 0.0529 - accuracy: 0.9896\n",
      "Epoch 13/15\n",
      "45/45 [==============================] - 0s 3ms/step - loss: 0.0406 - accuracy: 0.9937\n",
      "Epoch 14/15\n",
      "45/45 [==============================] - 0s 4ms/step - loss: 0.0370 - accuracy: 0.9944\n",
      "Epoch 15/15\n",
      "45/45 [==============================] - 0s 4ms/step - loss: 0.0267 - accuracy: 0.9972\n"
     ]
    },
    {
     "data": {
      "image/png": "[encoded data removed]",
      "text/plain": [
       "<Figure size 1200x400 with 1 Axes>"
      ]
     },
     "metadata": {},
     "output_type": "display_data"
    }
   ],
   "source": [
    "history = model.fit(X_train, y_train, epochs=15, batch_size=32)\n",
    "\n",
    "plt.figure(figsize=(12, 4))\n",
    "plt.plot(history.history['loss'], label=\"Truncated Normal init\")\n",
    "plt.legend();"
   ]
  },
  {
   "cell_type": "markdown",
   "metadata": {},
   "source": [
    "Once the model has been fit, the weights have been updated and notably the biases are no longer 0:"
   ]
  },
  {
   "cell_type": "code",
   "execution_count": 36,
   "metadata": {},
   "outputs": [
    {
     "data": {
      "text/plain": [
       "[<tf.Variable 'dense_22/kernel:0' shape=(64, 64) dtype=float32, numpy=\n",
       " array([[ 1.5817076e-04, -1.5900869e-02,  1.0359446e-03, ...,\n",
       "          9.6281823e-03,  6.2495731e-03,  9.9472618e-03],\n",
       "        [ 9.6250996e-03, -7.4662152e-03, -8.6037247e-03, ...,\n",
       "         -1.2335578e-03, -1.7806862e-02, -2.6746292e-02],\n",
       "        [ 1.9375680e-02, -1.0037473e-01, -1.1317823e-01, ...,\n",
       "         -1.6530268e-02, -1.5653183e-01,  7.6867364e-02],\n",
       "        ...,\n",
       "        [ 2.9167922e-02, -9.6324757e-03,  9.0374872e-02, ...,\n",
       "         -9.3607664e-02,  6.4987533e-02, -2.0655082e-01],\n",
       "        [ 4.2529859e-02, -3.8687531e-02,  8.4167115e-02, ...,\n",
       "         -6.4739324e-02, -2.0833401e-02, -9.9068120e-02],\n",
       "        [ 3.2101821e-02,  2.5163898e-02,  4.0720209e-02, ...,\n",
       "          3.8355056e-02,  7.6794010e-03, -4.1111309e-02]], dtype=float32)>,\n",
       " <tf.Variable 'dense_22/bias:0' shape=(64,) dtype=float32, numpy=\n",
       " array([ 2.0805228e-04, -1.7273373e-03,  7.8694511e-04, -2.2326363e-03,\n",
       "        -2.6885509e-03,  1.0035855e-04, -7.3759869e-04, -2.1691655e-04,\n",
       "         4.3222780e-04, -3.6212378e-03,  6.7433086e-04,  2.6142441e-03,\n",
       "         1.1561812e-03, -3.1007323e-03,  2.3518237e-03, -1.6825399e-03,\n",
       "         4.6378211e-03,  7.1657333e-04,  4.8925378e-04, -2.0744626e-03,\n",
       "        -5.6018853e-05,  1.1288050e-03,  2.0773921e-03,  1.6578886e-03,\n",
       "         3.1446684e-03, -1.5165569e-03, -1.6242369e-03,  1.1721231e-03,\n",
       "        -6.7463983e-04,  6.0012960e-04,  4.3490599e-03, -8.9479832e-04,\n",
       "         6.4943684e-04, -1.6781164e-04,  7.9038722e-04, -8.2788378e-04,\n",
       "        -1.0076272e-03,  6.4827839e-04, -3.6034745e-03,  1.4541346e-03,\n",
       "         2.3871420e-03, -1.5692948e-03,  1.4225312e-03,  5.5244158e-04,\n",
       "         1.5967756e-03, -2.2502567e-04,  4.4315667e-03, -2.2734068e-03,\n",
       "         2.3076800e-03,  1.3305140e-03,  3.7962771e-03, -2.5039311e-03,\n",
       "        -5.2631614e-03, -2.5028226e-03, -4.2963563e-03, -2.4356516e-03,\n",
       "         8.8752341e-04,  1.5174145e-03,  3.1233232e-03,  4.2913987e-05,\n",
       "         8.9233706e-04,  1.4726639e-04, -4.5190379e-03,  5.1655003e-04],\n",
       "       dtype=float32)>]"
      ]
     },
     "execution_count": 36,
     "metadata": {},
     "output_type": "execute_result"
    }
   ],
   "source": [
    "model.layers[0].weights"
   ]
  },
  {
   "cell_type": "markdown",
   "metadata": {},
   "source": [
    "#### Questions:\n",
    "\n",
    "- Try the following initialization schemes and see whether\n",
    "  the SGD algorithm can successfully train the network or\n",
    "  not:\n",
    "  \n",
    "  - a very small e.g. `stddev=1e-3`\n",
    "  - a larger scale e.g. `stddev=1` or `10`\n",
    "  - initialize all weights to 0 (constant initialization)\n",
    "  \n",
    "- What do you observe? Can you find an explanation for those\n",
    "  outcomes?\n",
    "\n",
    "-   It seems Very Samll Standar Deviation (steddev=1e3) preformed the best among all.  \n",
    "\n",
    "- Are more advanced solvers such as SGD with momentum or Adam able\n",
    "  to deal better with such bad initializations?\n",
    "\n",
    "-   No, on the contrary it perform even worse."
   ]
  },
  {
   "cell_type": "code",
   "execution_count": 38,
   "metadata": {},
   "outputs": [
    {
     "name": "stdout",
     "output_type": "stream",
     "text": [
      "Epoch 1/15\n",
      "45/45 [==============================] - 1s 4ms/step - loss: 2.3036 - accuracy: 0.0967\n",
      "Epoch 2/15\n",
      "45/45 [==============================] - 0s 3ms/step - loss: 2.3033 - accuracy: 0.1044\n",
      "Epoch 3/15\n",
      "45/45 [==============================] - 0s 3ms/step - loss: 2.3032 - accuracy: 0.0967\n",
      "Epoch 4/15\n",
      "45/45 [==============================] - 0s 4ms/step - loss: 2.3031 - accuracy: 0.1072\n",
      "Epoch 5/15\n",
      "45/45 [==============================] - 0s 3ms/step - loss: 2.3032 - accuracy: 0.1072\n",
      "Epoch 6/15\n",
      "45/45 [==============================] - 0s 4ms/step - loss: 2.3032 - accuracy: 0.1002\n",
      "Epoch 7/15\n",
      "45/45 [==============================] - 0s 4ms/step - loss: 2.3030 - accuracy: 0.1016\n",
      "Epoch 8/15\n",
      "45/45 [==============================] - 0s 4ms/step - loss: 2.3030 - accuracy: 0.1009\n",
      "Epoch 9/15\n",
      "45/45 [==============================] - 0s 4ms/step - loss: 2.3017 - accuracy: 0.1072\n",
      "Epoch 10/15\n",
      "45/45 [==============================] - 0s 3ms/step - loss: 2.1201 - accuracy: 0.1795\n",
      "Epoch 11/15\n",
      "45/45 [==============================] - 0s 4ms/step - loss: 1.8305 - accuracy: 0.2053\n",
      "Epoch 12/15\n",
      "45/45 [==============================] - 0s 3ms/step - loss: 1.6623 - accuracy: 0.2582\n",
      "Epoch 13/15\n",
      "45/45 [==============================] - 0s 3ms/step - loss: 1.4451 - accuracy: 0.3556\n",
      "Epoch 14/15\n",
      "45/45 [==============================] - 0s 3ms/step - loss: 1.2264 - accuracy: 0.4718\n",
      "Epoch 15/15\n",
      "45/45 [==============================] - 0s 3ms/step - loss: 1.0028 - accuracy: 0.6040\n"
     ]
    },
    {
     "data": {
      "image/png": "[encoded data removed]",
      "text/plain": [
       "<Figure size 1200x400 with 1 Axes>"
      ]
     },
     "metadata": {},
     "output_type": "display_data"
    }
   ],
   "source": [
    "# Your code here\n",
    "# Very Small Standard Deviation (stddev=1e-3)\n",
    "normal_init_small = initializers.TruncatedNormal(stddev=1e-3, seed=42)\n",
    "model = Sequential()\n",
    "model.add(Dense(hidden_dim, input_dim=input_dim, activation=\"tanh\",\n",
    "                kernel_initializer=normal_init_small))\n",
    "model.add(Dense(hidden_dim, activation=\"tanh\",\n",
    "                kernel_initializer=normal_init_small))\n",
    "model.add(Dense(output_dim, activation=\"softmax\",\n",
    "                kernel_initializer=normal_init_small))\n",
    "\n",
    "model.compile(optimizer=optimizers.SGD(learning_rate=0.1),\n",
    "              loss='categorical_crossentropy', metrics=['accuracy'])\n",
    "history_small = model.fit(X_train, y_train, epochs=15, batch_size=32)\n",
    "\n",
    "\n",
    "plt.figure(figsize=(12, 4))\n",
    "plt.plot(history_small.history['loss'], label=\"Truncated Normal init\")\n",
    "plt.legend();\n"
   ]
  },
  {
   "cell_type": "code",
   "execution_count": 40,
   "metadata": {},
   "outputs": [
    {
     "name": "stdout",
     "output_type": "stream",
     "text": [
      "Epoch 1/15\n",
      "45/45 [==============================] - 1s 4ms/step - loss: 4.5827 - accuracy: 0.2220\n",
      "Epoch 2/15\n",
      "45/45 [==============================] - 0s 3ms/step - loss: 1.6211 - accuracy: 0.4927\n",
      "Epoch 3/15\n",
      "45/45 [==============================] - 0s 5ms/step - loss: 1.1972 - accuracy: 0.5964\n",
      "Epoch 4/15\n",
      "45/45 [==============================] - 0s 3ms/step - loss: 1.0327 - accuracy: 0.6757\n",
      "Epoch 5/15\n",
      "45/45 [==============================] - 0s 3ms/step - loss: 0.9591 - accuracy: 0.6994\n",
      "Epoch 6/15\n",
      "45/45 [==============================] - 0s 3ms/step - loss: 1.0182 - accuracy: 0.6660\n",
      "Epoch 7/15\n",
      "45/45 [==============================] - 0s 3ms/step - loss: 0.8307 - accuracy: 0.7314\n",
      "Epoch 8/15\n",
      "45/45 [==============================] - 0s 3ms/step - loss: 0.8679 - accuracy: 0.7154\n",
      "Epoch 9/15\n",
      "45/45 [==============================] - 0s 3ms/step - loss: 0.8061 - accuracy: 0.7376\n",
      "Epoch 10/15\n",
      "45/45 [==============================] - 0s 3ms/step - loss: 0.6926 - accuracy: 0.7662\n",
      "Epoch 11/15\n",
      "45/45 [==============================] - 0s 3ms/step - loss: 0.6220 - accuracy: 0.7878\n",
      "Epoch 12/15\n",
      "45/45 [==============================] - 0s 4ms/step - loss: 0.7048 - accuracy: 0.7766\n",
      "Epoch 13/15\n",
      "45/45 [==============================] - 0s 3ms/step - loss: 0.6219 - accuracy: 0.8017\n",
      "Epoch 14/15\n",
      "45/45 [==============================] - 0s 3ms/step - loss: 0.6112 - accuracy: 0.8149\n",
      "Epoch 15/15\n",
      "45/45 [==============================] - 0s 4ms/step - loss: 0.5448 - accuracy: 0.8267\n"
     ]
    },
    {
     "data": {
      "image/png": "[encoded data removed]",
      "text/plain": [
       "<Figure size 1200x400 with 1 Axes>"
      ]
     },
     "metadata": {},
     "output_type": "display_data"
    }
   ],
   "source": [
    "# Larger Standard Deviation (stddev=1 or 10)\n",
    "normal_init_large = initializers.TruncatedNormal(stddev=1, seed=42)\n",
    "model = Sequential()\n",
    "model.add(Dense(hidden_dim, input_dim=input_dim, activation=\"tanh\",\n",
    "                kernel_initializer=normal_init_large))\n",
    "model.add(Dense(hidden_dim, activation=\"tanh\",\n",
    "                kernel_initializer=normal_init_large))\n",
    "model.add(Dense(output_dim, activation=\"softmax\",\n",
    "                kernel_initializer=normal_init_large))\n",
    "\n",
    "model.compile(optimizer=optimizers.SGD(learning_rate=0.1),\n",
    "              loss='categorical_crossentropy', metrics=['accuracy'])\n",
    "history_large = model.fit(X_train, y_train, epochs=15, batch_size=32)\n",
    "\n",
    "plt.figure(figsize=(12, 4))\n",
    "plt.plot(history_large.history['loss'], label=\"Truncated Normal init\")\n",
    "plt.legend();\n",
    "\n"
   ]
  },
  {
   "cell_type": "code",
   "execution_count": 42,
   "metadata": {},
   "outputs": [
    {
     "name": "stdout",
     "output_type": "stream",
     "text": [
      "Epoch 1/15\n",
      "45/45 [==============================] - 1s 5ms/step - loss: 2.3036 - accuracy: 0.0919\n",
      "Epoch 2/15\n",
      "45/45 [==============================] - 0s 6ms/step - loss: 2.3035 - accuracy: 0.0995\n",
      "Epoch 3/15\n",
      "45/45 [==============================] - 0s 5ms/step - loss: 2.3031 - accuracy: 0.1037\n",
      "Epoch 4/15\n",
      "45/45 [==============================] - 0s 5ms/step - loss: 2.3032 - accuracy: 0.1072\n",
      "Epoch 5/15\n",
      "45/45 [==============================] - 0s 5ms/step - loss: 2.3030 - accuracy: 0.1072\n",
      "Epoch 6/15\n",
      "45/45 [==============================] - 0s 5ms/step - loss: 2.3032 - accuracy: 0.0926\n",
      "Epoch 7/15\n",
      "45/45 [==============================] - 0s 5ms/step - loss: 2.3031 - accuracy: 0.0974\n",
      "Epoch 8/15\n",
      "45/45 [==============================] - 0s 5ms/step - loss: 2.3030 - accuracy: 0.1072\n",
      "Epoch 9/15\n",
      "45/45 [==============================] - 0s 5ms/step - loss: 2.3033 - accuracy: 0.1030\n",
      "Epoch 10/15\n",
      "45/45 [==============================] - 0s 5ms/step - loss: 2.3031 - accuracy: 0.1072\n",
      "Epoch 11/15\n",
      "45/45 [==============================] - 0s 5ms/step - loss: 2.3031 - accuracy: 0.1037\n",
      "Epoch 12/15\n",
      "45/45 [==============================] - 0s 5ms/step - loss: 2.3032 - accuracy: 0.1058\n",
      "Epoch 13/15\n",
      "45/45 [==============================] - 0s 6ms/step - loss: 2.3032 - accuracy: 0.1072\n",
      "Epoch 14/15\n",
      "45/45 [==============================] - 0s 5ms/step - loss: 2.3032 - accuracy: 0.1023\n",
      "Epoch 15/15\n",
      "45/45 [==============================] - 0s 5ms/step - loss: 2.3031 - accuracy: 0.1072\n"
     ]
    },
    {
     "data": {
      "image/png": "[encoded data removed]",
      "text/plain": [
       "<Figure size 1200x400 with 1 Axes>"
      ]
     },
     "metadata": {},
     "output_type": "display_data"
    }
   ],
   "source": [
    "constant_init = initializers.Constant(value=0.0)\n",
    "model = Sequential()\n",
    "model.add(Dense(hidden_dim, input_dim=input_dim, activation=\"tanh\",\n",
    "                kernel_initializer=constant_init))\n",
    "model.add(Dense(hidden_dim, activation=\"tanh\",\n",
    "                kernel_initializer=constant_init))\n",
    "model.add(Dense(output_dim, activation=\"softmax\",\n",
    "                kernel_initializer=constant_init))\n",
    "\n",
    "model.compile(optimizer=optimizers.SGD(learning_rate=0.1),\n",
    "              loss='categorical_crossentropy', metrics=['accuracy'])\n",
    "history_zero = model.fit(X_train, y_train, epochs=15, batch_size=32)\n",
    "\n",
    "plt.figure(figsize=(12, 4))\n",
    "plt.plot(history_zero.history['loss'], label=\"Truncated Normal init\")\n",
    "plt.legend();\n"
   ]
  },
  {
   "cell_type": "code",
   "execution_count": 43,
   "metadata": {},
   "outputs": [
    {
     "name": "stdout",
     "output_type": "stream",
     "text": [
      "Epoch 1/15\n",
      "45/45 [==============================] - 1s 4ms/step - loss: 2.3078 - accuracy: 0.0932\n",
      "Epoch 2/15\n",
      "45/45 [==============================] - 0s 4ms/step - loss: 2.3089 - accuracy: 0.0953\n",
      "Epoch 3/15\n",
      "45/45 [==============================] - 0s 3ms/step - loss: 2.3134 - accuracy: 0.0953\n",
      "Epoch 4/15\n",
      "45/45 [==============================] - 0s 4ms/step - loss: 2.3091 - accuracy: 0.1009\n",
      "Epoch 5/15\n",
      "45/45 [==============================] - 0s 3ms/step - loss: 2.3107 - accuracy: 0.0981\n",
      "Epoch 6/15\n",
      "45/45 [==============================] - 0s 4ms/step - loss: 2.3088 - accuracy: 0.0932\n",
      "Epoch 7/15\n",
      "45/45 [==============================] - 0s 4ms/step - loss: 2.3088 - accuracy: 0.1016\n",
      "Epoch 8/15\n",
      "45/45 [==============================] - 0s 4ms/step - loss: 2.3111 - accuracy: 0.1079\n",
      "Epoch 9/15\n",
      "45/45 [==============================] - 0s 3ms/step - loss: 2.3090 - accuracy: 0.1030\n",
      "Epoch 10/15\n",
      "45/45 [==============================] - 0s 4ms/step - loss: 2.3112 - accuracy: 0.0884\n",
      "Epoch 11/15\n",
      "45/45 [==============================] - 0s 4ms/step - loss: 2.3119 - accuracy: 0.0960\n",
      "Epoch 12/15\n",
      "45/45 [==============================] - 0s 4ms/step - loss: 2.3116 - accuracy: 0.0905\n",
      "Epoch 13/15\n",
      "45/45 [==============================] - 0s 4ms/step - loss: 2.3147 - accuracy: 0.1065\n",
      "Epoch 14/15\n",
      "45/45 [==============================] - 0s 4ms/step - loss: 2.3105 - accuracy: 0.0932\n",
      "Epoch 15/15\n",
      "45/45 [==============================] - 0s 4ms/step - loss: 2.3085 - accuracy: 0.0932\n"
     ]
    },
    {
     "data": {
      "image/png": "[encoded data removed]",
      "text/plain": [
       "<Figure size 1200x400 with 1 Axes>"
      ]
     },
     "metadata": {},
     "output_type": "display_data"
    }
   ],
   "source": [
    "# SCD Optomizer\n",
    "momentum_optimizer = optimizers.SGD(learning_rate=0.1, momentum=0.9)\n",
    "model.compile(optimizer=momentum_optimizer,\n",
    "              loss='categorical_crossentropy', metrics=['accuracy'])\n",
    "history_momentum = model.fit(X_train, y_train, epochs=15, batch_size=32)\n",
    "plt.figure(figsize=(12, 4))\n",
    "plt.plot(history_momentum.history['loss'], label=\"Truncated Normal init\")\n",
    "plt.legend();\n",
    "\n"
   ]
  },
  {
   "cell_type": "code",
   "execution_count": 44,
   "metadata": {},
   "outputs": [
    {
     "name": "stdout",
     "output_type": "stream",
     "text": [
      "Epoch 1/15\n",
      "45/45 [==============================] - 1s 4ms/step - loss: 2.3045 - accuracy: 0.1037\n",
      "Epoch 2/15\n",
      "45/45 [==============================] - 0s 4ms/step - loss: 2.3040 - accuracy: 0.1037\n",
      "Epoch 3/15\n",
      "45/45 [==============================] - 0s 4ms/step - loss: 2.3038 - accuracy: 0.1037\n",
      "Epoch 4/15\n",
      "45/45 [==============================] - 0s 4ms/step - loss: 2.3036 - accuracy: 0.1037\n",
      "Epoch 5/15\n",
      "45/45 [==============================] - 0s 4ms/step - loss: 2.3033 - accuracy: 0.1037\n",
      "Epoch 6/15\n",
      "45/45 [==============================] - 0s 4ms/step - loss: 2.3031 - accuracy: 0.1037\n",
      "Epoch 7/15\n",
      "45/45 [==============================] - 0s 4ms/step - loss: 2.3029 - accuracy: 0.1037\n",
      "Epoch 8/15\n",
      "45/45 [==============================] - 0s 4ms/step - loss: 2.3028 - accuracy: 0.1037\n",
      "Epoch 9/15\n",
      "45/45 [==============================] - 0s 3ms/step - loss: 2.3027 - accuracy: 0.1037\n",
      "Epoch 10/15\n",
      "45/45 [==============================] - 0s 3ms/step - loss: 2.3026 - accuracy: 0.1037\n",
      "Epoch 11/15\n",
      "45/45 [==============================] - 0s 3ms/step - loss: 2.3025 - accuracy: 0.1037\n",
      "Epoch 12/15\n",
      "45/45 [==============================] - 0s 4ms/step - loss: 2.3024 - accuracy: 0.1037\n",
      "Epoch 13/15\n",
      "45/45 [==============================] - 0s 4ms/step - loss: 2.3024 - accuracy: 0.1037\n",
      "Epoch 14/15\n",
      "45/45 [==============================] - 0s 4ms/step - loss: 2.3023 - accuracy: 0.0988\n",
      "Epoch 15/15\n",
      "45/45 [==============================] - 0s 5ms/step - loss: 2.3022 - accuracy: 0.1009\n",
      "Epoch 1/15\n",
      "45/45 [==============================] - 0s 4ms/step - loss: 2.3022 - accuracy: 0.1072\n",
      "Epoch 2/15\n",
      "45/45 [==============================] - 0s 4ms/step - loss: 2.3021 - accuracy: 0.1072\n",
      "Epoch 3/15\n",
      "45/45 [==============================] - 0s 4ms/step - loss: 2.3022 - accuracy: 0.1072\n",
      "Epoch 4/15\n",
      "45/45 [==============================] - 0s 5ms/step - loss: 2.3022 - accuracy: 0.1072\n",
      "Epoch 5/15\n",
      "45/45 [==============================] - 0s 4ms/step - loss: 2.3021 - accuracy: 0.1072\n",
      "Epoch 6/15\n",
      "45/45 [==============================] - 0s 4ms/step - loss: 2.3021 - accuracy: 0.1072\n",
      "Epoch 7/15\n",
      "45/45 [==============================] - 0s 4ms/step - loss: 2.3021 - accuracy: 0.1072\n",
      "Epoch 8/15\n",
      "45/45 [==============================] - 0s 4ms/step - loss: 2.3021 - accuracy: 0.1072\n",
      "Epoch 9/15\n",
      "45/45 [==============================] - 0s 4ms/step - loss: 2.3020 - accuracy: 0.1072\n",
      "Epoch 10/15\n",
      "45/45 [==============================] - 0s 4ms/step - loss: 2.3021 - accuracy: 0.1072\n",
      "Epoch 11/15\n",
      "45/45 [==============================] - 0s 4ms/step - loss: 2.3020 - accuracy: 0.1072\n",
      "Epoch 12/15\n",
      "45/45 [==============================] - 0s 5ms/step - loss: 2.3021 - accuracy: 0.1072\n",
      "Epoch 13/15\n",
      "45/45 [==============================] - 0s 4ms/step - loss: 2.3020 - accuracy: 0.1072\n",
      "Epoch 14/15\n",
      "45/45 [==============================] - 0s 4ms/step - loss: 2.3020 - accuracy: 0.1072\n",
      "Epoch 15/15\n",
      "45/45 [==============================] - 0s 4ms/step - loss: 2.3020 - accuracy: 0.1072\n"
     ]
    },
    {
     "data": {
      "image/png": "[encoded data removed]",
      "text/plain": [
       "<Figure size 1200x400 with 1 Axes>"
      ]
     },
     "metadata": {},
     "output_type": "display_data"
    }
   ],
   "source": [
    "adam_optimizer = optimizers.Adam(learning_rate=0.001)\n",
    "model.compile(optimizer=adam_optimizer,\n",
    "              loss='categorical_crossentropy', metrics=['accuracy'])\n",
    "history_adam = model.fit(X_train, y_train, epochs=15, batch_size=32)\n",
    "history_adam = model.fit(X_train, y_train, epochs=15, batch_size=32)\n",
    "plt.figure(figsize=(12, 4))\n",
    "plt.plot(history_adam.history['loss'], label=\"Truncated Normal init\")\n",
    "plt.legend();"
   ]
  },
  {
   "cell_type": "code",
   "execution_count": null,
   "metadata": {},
   "outputs": [],
   "source": []
  }
 ],
 "metadata": {
  "file_extension": ".py",
  "kernelspec": {
   "display_name": "Python 3 (ipykernel)",
   "language": "python",
   "name": "python3"
  },
  "language_info": {
   "codemirror_mode": {
    "name": "ipython",
    "version": 3
   },
   "file_extension": ".py",
   "mimetype": "text/x-python",
   "name": "python",
   "nbconvert_exporter": "python",
   "pygments_lexer": "ipython3",
   "version": "3.9.18"
  },
  "mimetype": "text/x-python",
  "name": "python",
  "npconvert_exporter": "python",
  "pygments_lexer": "ipython3",
  "toc": {
   "base_numbering": 1,
   "nav_menu": {},
   "number_sections": true,
   "sideBar": true,
   "skip_h1_title": false,
   "title_cell": "Table of Contents",
   "title_sidebar": "Contents",
   "toc_cell": false,
   "toc_position": {},
   "toc_section_display": true,
   "toc_window_display": false
  },
  "version": 3
 },
 "nbformat": 4,
 "nbformat_minor": 4
}
